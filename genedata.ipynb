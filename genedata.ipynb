{
 "metadata": {
  "language_info": {
   "codemirror_mode": {
    "name": "ipython",
    "version": 3
   },
   "file_extension": ".py",
   "mimetype": "text/x-python",
   "name": "python",
   "nbconvert_exporter": "python",
   "pygments_lexer": "ipython3",
   "version": "3.8.3-final"
  },
  "orig_nbformat": 2,
  "kernelspec": {
   "name": "python3",
   "display_name": "Python 3"
  }
 },
 "nbformat": 4,
 "nbformat_minor": 2,
 "cells": [
  {
   "source": [
    "# Genedata Task\n",
    "\n",
    "**Preprocessing:**\n",
    "\n",
    "* Scaling\n",
    "    * Mean centering and dividing by standard deviation\n",
    "    * Maximum absolute value Scaling\n",
    "    * PCA\n",
    "\n",
    "**Methods:**\n",
    "\n",
    "* K-means\n",
    "* Spectral clustering\n",
    "\n",
    "**Results:**\n",
    "\n",
    "Best NMI score: 0.99\n",
    "\n",
    "Using:\n",
    "* Spectral clustering\n",
    "* 5 clusters\n",
    "* Nearest neighbor affinity with n = 5\n",
    "* PCA with 600 components kept"
   ],
   "cell_type": "markdown",
   "metadata": {}
  },
  {
   "source": [
    "## Setup"
   ],
   "cell_type": "markdown",
   "metadata": {}
  },
  {
   "cell_type": "code",
   "execution_count": 2,
   "metadata": {},
   "outputs": [],
   "source": [
    "import pandas as pd\n",
    "import numpy as np\n",
    "\n",
    "# Clustering methods\n",
    "from sklearn.cluster import KMeans\n",
    "from sklearn.cluster import SpectralClustering\n",
    "from sklearn.cluster import AgglomerativeClustering\n",
    "\n",
    "# Metrics\n",
    "from sklearn.metrics.cluster import normalized_mutual_info_score\n",
    "\n",
    "# Preprocessing\n",
    "from sklearn.preprocessing import StandardScaler\n",
    "from sklearn.preprocessing import MaxAbsScaler\n",
    "from sklearn.decomposition import PCA"
   ]
  },
  {
   "cell_type": "code",
   "execution_count": 6,
   "metadata": {},
   "outputs": [
    {
     "output_type": "execute_result",
     "data": {
      "text/plain": [
       "      id  class      f1       f2       f3       f4       f5      f6       f7  \\\n",
       "0      1      5  2.3383  10.5440  11.4653  10.4441  10.6311  7.7036   9.6444   \n",
       "1      2      4  3.9151   9.5815  10.3992   9.8333   8.9781  7.0265   9.2761   \n",
       "2      3      5  2.9322   9.3102  11.0756   9.8490   9.4291  8.0618   8.3874   \n",
       "3      4      5  3.9470   8.5315  10.9836   9.3676   9.6856  7.5842   8.5774   \n",
       "4      5      1  4.4618   9.1392  10.9183  10.0490   9.8290  6.5658   9.8122   \n",
       "..   ...    ...     ...      ...      ...      ...      ...     ...      ...   \n",
       "790  791      1  4.1916   8.8362  11.0111   9.6675  10.0520  6.2790   9.8611   \n",
       "791  792      4  4.5846   9.1122  11.6310   9.5083  10.2390  9.3738   9.8059   \n",
       "792  793      3  4.6489   9.0206  10.6455   9.8452  10.4445  9.0456  10.5651   \n",
       "793  794      5  3.3839  10.6693  11.4684  10.4659   9.8408  9.3388   9.4965   \n",
       "794  795      5  3.1952   9.5168  10.8056  10.1794   9.7270  7.7756   9.0479   \n",
       "\n",
       "         f8  ...    f6991    f6992   f6993   f6994    f6995    f6996    f6997  \\\n",
       "0    7.8501  ...  11.9394  11.1349  5.7066  8.2176   9.9062   9.0815  10.5098   \n",
       "1    7.3903  ...  11.6547   7.7178  9.3558  7.5026  10.2106   8.9278  10.2466   \n",
       "2    7.9274  ...  11.9372  11.2369  6.5860  9.1668  10.3315   9.7551  11.4392   \n",
       "3    8.3737  ...  13.2541  11.8221  9.5261  7.4231  11.2862   9.8992  10.4067   \n",
       "4    9.0646  ...  11.6416  11.5142  6.5539  7.8319  11.0100  10.1013  11.2682   \n",
       "..      ...  ...      ...      ...     ...     ...      ...      ...      ...   \n",
       "790  7.7249  ...   7.0101  10.7721  5.6539  8.3391  11.5969  10.1878  10.9634   \n",
       "791  7.8844  ...  12.4231  10.3401  4.9764  8.8977  10.0941   8.9387  10.5346   \n",
       "792  6.7399  ...   7.3802   8.7899  7.2340  9.1537  10.5056   9.7452  10.1808   \n",
       "793  7.5221  ...  11.5339  10.8192  7.1455  8.9878  11.2424   9.8839  10.3835   \n",
       "794  9.6740  ...  11.2344  11.7232  8.1316  8.6245  11.2477  10.4914  10.5909   \n",
       "\n",
       "       f6998   f6999   f7000  \n",
       "0    11.8648  8.4341  6.7618  \n",
       "1    11.3329  7.8209  7.4350  \n",
       "2    10.7036  8.0041  8.5380  \n",
       "3    11.9044  7.9843  8.5370  \n",
       "4    10.8969  8.1959  8.2906  \n",
       "..       ...     ...     ...  \n",
       "790  10.9893  9.0314  8.8375  \n",
       "791  11.2762  8.4321  7.2204  \n",
       "792  11.4399  8.3824  8.2929  \n",
       "793  11.5674  8.3261  9.6444  \n",
       "794  10.8684  8.3932  8.6758  \n",
       "\n",
       "[795 rows x 7002 columns]"
      ],
      "text/html": "<div>\n<style scoped>\n    .dataframe tbody tr th:only-of-type {\n        vertical-align: middle;\n    }\n\n    .dataframe tbody tr th {\n        vertical-align: top;\n    }\n\n    .dataframe thead th {\n        text-align: right;\n    }\n</style>\n<table border=\"1\" class=\"dataframe\">\n  <thead>\n    <tr style=\"text-align: right;\">\n      <th></th>\n      <th>id</th>\n      <th>class</th>\n      <th>f1</th>\n      <th>f2</th>\n      <th>f3</th>\n      <th>f4</th>\n      <th>f5</th>\n      <th>f6</th>\n      <th>f7</th>\n      <th>f8</th>\n      <th>...</th>\n      <th>f6991</th>\n      <th>f6992</th>\n      <th>f6993</th>\n      <th>f6994</th>\n      <th>f6995</th>\n      <th>f6996</th>\n      <th>f6997</th>\n      <th>f6998</th>\n      <th>f6999</th>\n      <th>f7000</th>\n    </tr>\n  </thead>\n  <tbody>\n    <tr>\n      <th>0</th>\n      <td>1</td>\n      <td>5</td>\n      <td>2.3383</td>\n      <td>10.5440</td>\n      <td>11.4653</td>\n      <td>10.4441</td>\n      <td>10.6311</td>\n      <td>7.7036</td>\n      <td>9.6444</td>\n      <td>7.8501</td>\n      <td>...</td>\n      <td>11.9394</td>\n      <td>11.1349</td>\n      <td>5.7066</td>\n      <td>8.2176</td>\n      <td>9.9062</td>\n      <td>9.0815</td>\n      <td>10.5098</td>\n      <td>11.8648</td>\n      <td>8.4341</td>\n      <td>6.7618</td>\n    </tr>\n    <tr>\n      <th>1</th>\n      <td>2</td>\n      <td>4</td>\n      <td>3.9151</td>\n      <td>9.5815</td>\n      <td>10.3992</td>\n      <td>9.8333</td>\n      <td>8.9781</td>\n      <td>7.0265</td>\n      <td>9.2761</td>\n      <td>7.3903</td>\n      <td>...</td>\n      <td>11.6547</td>\n      <td>7.7178</td>\n      <td>9.3558</td>\n      <td>7.5026</td>\n      <td>10.2106</td>\n      <td>8.9278</td>\n      <td>10.2466</td>\n      <td>11.3329</td>\n      <td>7.8209</td>\n      <td>7.4350</td>\n    </tr>\n    <tr>\n      <th>2</th>\n      <td>3</td>\n      <td>5</td>\n      <td>2.9322</td>\n      <td>9.3102</td>\n      <td>11.0756</td>\n      <td>9.8490</td>\n      <td>9.4291</td>\n      <td>8.0618</td>\n      <td>8.3874</td>\n      <td>7.9274</td>\n      <td>...</td>\n      <td>11.9372</td>\n      <td>11.2369</td>\n      <td>6.5860</td>\n      <td>9.1668</td>\n      <td>10.3315</td>\n      <td>9.7551</td>\n      <td>11.4392</td>\n      <td>10.7036</td>\n      <td>8.0041</td>\n      <td>8.5380</td>\n    </tr>\n    <tr>\n      <th>3</th>\n      <td>4</td>\n      <td>5</td>\n      <td>3.9470</td>\n      <td>8.5315</td>\n      <td>10.9836</td>\n      <td>9.3676</td>\n      <td>9.6856</td>\n      <td>7.5842</td>\n      <td>8.5774</td>\n      <td>8.3737</td>\n      <td>...</td>\n      <td>13.2541</td>\n      <td>11.8221</td>\n      <td>9.5261</td>\n      <td>7.4231</td>\n      <td>11.2862</td>\n      <td>9.8992</td>\n      <td>10.4067</td>\n      <td>11.9044</td>\n      <td>7.9843</td>\n      <td>8.5370</td>\n    </tr>\n    <tr>\n      <th>4</th>\n      <td>5</td>\n      <td>1</td>\n      <td>4.4618</td>\n      <td>9.1392</td>\n      <td>10.9183</td>\n      <td>10.0490</td>\n      <td>9.8290</td>\n      <td>6.5658</td>\n      <td>9.8122</td>\n      <td>9.0646</td>\n      <td>...</td>\n      <td>11.6416</td>\n      <td>11.5142</td>\n      <td>6.5539</td>\n      <td>7.8319</td>\n      <td>11.0100</td>\n      <td>10.1013</td>\n      <td>11.2682</td>\n      <td>10.8969</td>\n      <td>8.1959</td>\n      <td>8.2906</td>\n    </tr>\n    <tr>\n      <th>...</th>\n      <td>...</td>\n      <td>...</td>\n      <td>...</td>\n      <td>...</td>\n      <td>...</td>\n      <td>...</td>\n      <td>...</td>\n      <td>...</td>\n      <td>...</td>\n      <td>...</td>\n      <td>...</td>\n      <td>...</td>\n      <td>...</td>\n      <td>...</td>\n      <td>...</td>\n      <td>...</td>\n      <td>...</td>\n      <td>...</td>\n      <td>...</td>\n      <td>...</td>\n      <td>...</td>\n    </tr>\n    <tr>\n      <th>790</th>\n      <td>791</td>\n      <td>1</td>\n      <td>4.1916</td>\n      <td>8.8362</td>\n      <td>11.0111</td>\n      <td>9.6675</td>\n      <td>10.0520</td>\n      <td>6.2790</td>\n      <td>9.8611</td>\n      <td>7.7249</td>\n      <td>...</td>\n      <td>7.0101</td>\n      <td>10.7721</td>\n      <td>5.6539</td>\n      <td>8.3391</td>\n      <td>11.5969</td>\n      <td>10.1878</td>\n      <td>10.9634</td>\n      <td>10.9893</td>\n      <td>9.0314</td>\n      <td>8.8375</td>\n    </tr>\n    <tr>\n      <th>791</th>\n      <td>792</td>\n      <td>4</td>\n      <td>4.5846</td>\n      <td>9.1122</td>\n      <td>11.6310</td>\n      <td>9.5083</td>\n      <td>10.2390</td>\n      <td>9.3738</td>\n      <td>9.8059</td>\n      <td>7.8844</td>\n      <td>...</td>\n      <td>12.4231</td>\n      <td>10.3401</td>\n      <td>4.9764</td>\n      <td>8.8977</td>\n      <td>10.0941</td>\n      <td>8.9387</td>\n      <td>10.5346</td>\n      <td>11.2762</td>\n      <td>8.4321</td>\n      <td>7.2204</td>\n    </tr>\n    <tr>\n      <th>792</th>\n      <td>793</td>\n      <td>3</td>\n      <td>4.6489</td>\n      <td>9.0206</td>\n      <td>10.6455</td>\n      <td>9.8452</td>\n      <td>10.4445</td>\n      <td>9.0456</td>\n      <td>10.5651</td>\n      <td>6.7399</td>\n      <td>...</td>\n      <td>7.3802</td>\n      <td>8.7899</td>\n      <td>7.2340</td>\n      <td>9.1537</td>\n      <td>10.5056</td>\n      <td>9.7452</td>\n      <td>10.1808</td>\n      <td>11.4399</td>\n      <td>8.3824</td>\n      <td>8.2929</td>\n    </tr>\n    <tr>\n      <th>793</th>\n      <td>794</td>\n      <td>5</td>\n      <td>3.3839</td>\n      <td>10.6693</td>\n      <td>11.4684</td>\n      <td>10.4659</td>\n      <td>9.8408</td>\n      <td>9.3388</td>\n      <td>9.4965</td>\n      <td>7.5221</td>\n      <td>...</td>\n      <td>11.5339</td>\n      <td>10.8192</td>\n      <td>7.1455</td>\n      <td>8.9878</td>\n      <td>11.2424</td>\n      <td>9.8839</td>\n      <td>10.3835</td>\n      <td>11.5674</td>\n      <td>8.3261</td>\n      <td>9.6444</td>\n    </tr>\n    <tr>\n      <th>794</th>\n      <td>795</td>\n      <td>5</td>\n      <td>3.1952</td>\n      <td>9.5168</td>\n      <td>10.8056</td>\n      <td>10.1794</td>\n      <td>9.7270</td>\n      <td>7.7756</td>\n      <td>9.0479</td>\n      <td>9.6740</td>\n      <td>...</td>\n      <td>11.2344</td>\n      <td>11.7232</td>\n      <td>8.1316</td>\n      <td>8.6245</td>\n      <td>11.2477</td>\n      <td>10.4914</td>\n      <td>10.5909</td>\n      <td>10.8684</td>\n      <td>8.3932</td>\n      <td>8.6758</td>\n    </tr>\n  </tbody>\n</table>\n<p>795 rows × 7002 columns</p>\n</div>"
     },
     "metadata": {},
     "execution_count": 6
    }
   ],
   "source": [
    "df = pd.read_csv(\"./data/genedata.csv\", header = 0)\n",
    "df"
   ]
  },
  {
   "cell_type": "code",
   "execution_count": 4,
   "metadata": {},
   "outputs": [],
   "source": [
    "labels_true = df[\"class\"].to_numpy()\n",
    "data = df.iloc[:, 2:].to_numpy()\n",
    "data = data.astype(np.float)"
   ]
  },
  {
   "cell_type": "code",
   "execution_count": 5,
   "metadata": {},
   "outputs": [],
   "source": [
    "# Scoring helper to ensure geometric averaging method is always used\n",
    "def nmi_score(labels_true, labels_predicted):\n",
    "    return normalized_mutual_info_score(labels_true, labels_predicted, average_method=\"geometric\")"
   ]
  },
  {
   "source": [
    "## Preprocessing"
   ],
   "cell_type": "markdown",
   "metadata": {}
  },
  {
   "cell_type": "code",
   "execution_count": 7,
   "metadata": {},
   "outputs": [],
   "source": [
    "# Standard scaling: mean center and divide by standard deviation\n",
    "s_scaler = StandardScaler()\n",
    "data_ss = s_scaler.fit_transform(data)"
   ]
  },
  {
   "cell_type": "code",
   "execution_count": 8,
   "metadata": {},
   "outputs": [],
   "source": [
    "# Max abs scaling: scale each future by its max abs value. No centering\n",
    "mabs_scaler = MaxAbsScaler()\n",
    "data_mabs = mabs_scaler.fit_transform(data)"
   ]
  },
  {
   "cell_type": "code",
   "execution_count": 9,
   "metadata": {},
   "outputs": [
    {
     "output_type": "stream",
     "name": "stdout",
     "text": [
      "2\n",
      "7\n",
      "12\n",
      "17\n",
      "22\n",
      "27\n",
      "32\n",
      "37\n"
     ]
    }
   ],
   "source": [
    "# PCA\n",
    "# 600 was empirically found to be a good value for n_components\n",
    "data_pca = []\n",
    "for i in range(2, 40, 5):\n",
    "    print(i)\n",
    "    data_pca.append(PCA(n_components=600).fit_transform(data))"
   ]
  },
  {
   "cell_type": "code",
   "execution_count": 141,
   "metadata": {},
   "outputs": [],
   "source": [
    "data_list = [data, data_ss, data_mabs]"
   ]
  },
  {
   "source": [
    "## K-means\n",
    "\n",
    "### No preprocessing"
   ],
   "cell_type": "markdown",
   "metadata": {}
  },
  {
   "cell_type": "code",
   "execution_count": 10,
   "metadata": {},
   "outputs": [
    {
     "output_type": "stream",
     "name": "stdout",
     "text": [
      "2\n",
      "3\n",
      "4\n",
      "5\n",
      "6\n",
      "7\n",
      "8\n",
      "9\n",
      "\n",
      "K = 2: 0.5341\n",
      "K = 3: 0.7376\n",
      "K = 4: 0.8162\n",
      "K = 5: 0.8569\n",
      "K = 6: 0.8877\n",
      "K = 7: 0.8568\n",
      "K = 8: 0.8153\n",
      "K = 9: 0.791\n"
     ]
    }
   ],
   "source": [
    "labels_km = []\n",
    "scores_km = []\n",
    "\n",
    "for i in range(2, 10):\n",
    "    print(i)\n",
    "    km = KMeans(n_clusters=int(i), algorithm=\"full\").fit(data)\n",
    "    labels = km.predict(data)\n",
    "    labels_km.append(labels)\n",
    "    scores_km.append(nmi_score(labels_true, labels))\n",
    "\n",
    "print()\n",
    "for i, s in enumerate(scores_km):\n",
    "    print(\"K = {}: {}\".format(i+2, round(s, 4)))"
   ]
  },
  {
   "source": [
    "### W/ standard scaling"
   ],
   "cell_type": "markdown",
   "metadata": {}
  },
  {
   "cell_type": "code",
   "execution_count": 14,
   "metadata": {},
   "outputs": [
    {
     "output_type": "stream",
     "name": "stdout",
     "text": [
      "2\n",
      "3\n",
      "4\n",
      "5\n",
      "6\n",
      "7\n",
      "8\n",
      "9\n",
      "\n",
      "K = 2: 0.5161\n",
      "K = 3: 0.478\n",
      "K = 4: 0.7159\n",
      "K = 5: 0.8008\n",
      "K = 6: 0.7667\n",
      "K = 7: 0.7956\n",
      "K = 8: 0.784\n",
      "K = 9: 0.792\n"
     ]
    }
   ],
   "source": [
    "labels_km_pr = []\n",
    "scores_km_pr = []\n",
    "\n",
    "for i in range(2, 10):\n",
    "    print(i)\n",
    "    km = KMeans(n_clusters=int(i), algorithm=\"full\").fit(data_ss)\n",
    "    labels = km.predict(data_ss)\n",
    "    labels_km_pr.append(labels)\n",
    "    scores_km_pr.append(nmi_score(labels_true, labels))\n",
    "\n",
    "print()\n",
    "for i, s in enumerate(scores_km_pr):\n",
    "    print(\"K = {}: {}\".format(i+2, round(s, 4)))"
   ]
  },
  {
   "source": [
    "### W/ Max abs scaling"
   ],
   "cell_type": "markdown",
   "metadata": {}
  },
  {
   "cell_type": "code",
   "execution_count": 91,
   "metadata": {},
   "outputs": [
    {
     "output_type": "stream",
     "name": "stdout",
     "text": [
      "2\n",
      "3\n",
      "4\n",
      "5\n",
      "6\n",
      "7\n",
      "8\n",
      "9\n",
      "\n",
      "K = 2: 0.5341\n",
      "K = 3: 0.7363\n",
      "K = 4: 0.8085\n",
      "K = 5: 0.8535\n",
      "K = 6: 0.8288\n",
      "K = 7: 0.8414\n",
      "K = 8: 0.7999\n",
      "K = 9: 0.7863\n"
     ]
    }
   ],
   "source": [
    "labels_km_mabs = []\n",
    "scores_km_mabs = []\n",
    "\n",
    "for i in range(2, 10):\n",
    "    print(i)\n",
    "    km = KMeans(n_clusters=int(i), algorithm=\"full\").fit(data_mabs)\n",
    "    labels = km.predict(data_mabs)\n",
    "    labels_km_mabs.append(labels)\n",
    "    scores_km_mabs.append(nmi_score(labels_true, labels))\n",
    "\n",
    "print()\n",
    "for i, s in enumerate(scores_km_mabs):\n",
    "    print(\"K = {}: {}\".format(i+2, round(s, 4)))"
   ]
  },
  {
   "cell_type": "code",
   "execution_count": 18,
   "metadata": {},
   "outputs": [
    {
     "output_type": "execute_result",
     "data": {
      "text/plain": [
       "   K        No        SS      MABS\n",
       "0  2  0.534111  0.516057  0.534111\n",
       "1  3  0.737605  0.477963  0.742730\n",
       "2  4  0.816211  0.715886  0.808491\n",
       "3  5  0.856919  0.800831  0.844616\n",
       "4  6  0.887684  0.766742  0.868199\n",
       "5  7  0.856764  0.795643  0.840128\n",
       "6  8  0.815282  0.784002  0.800706\n",
       "7  9  0.791010  0.792050  0.786577"
      ],
      "text/html": "<div>\n<style scoped>\n    .dataframe tbody tr th:only-of-type {\n        vertical-align: middle;\n    }\n\n    .dataframe tbody tr th {\n        vertical-align: top;\n    }\n\n    .dataframe thead th {\n        text-align: right;\n    }\n</style>\n<table border=\"1\" class=\"dataframe\">\n  <thead>\n    <tr style=\"text-align: right;\">\n      <th></th>\n      <th>K</th>\n      <th>No</th>\n      <th>SS</th>\n      <th>MABS</th>\n    </tr>\n  </thead>\n  <tbody>\n    <tr>\n      <th>0</th>\n      <td>2</td>\n      <td>0.534111</td>\n      <td>0.516057</td>\n      <td>0.534111</td>\n    </tr>\n    <tr>\n      <th>1</th>\n      <td>3</td>\n      <td>0.737605</td>\n      <td>0.477963</td>\n      <td>0.742730</td>\n    </tr>\n    <tr>\n      <th>2</th>\n      <td>4</td>\n      <td>0.816211</td>\n      <td>0.715886</td>\n      <td>0.808491</td>\n    </tr>\n    <tr>\n      <th>3</th>\n      <td>5</td>\n      <td>0.856919</td>\n      <td>0.800831</td>\n      <td>0.844616</td>\n    </tr>\n    <tr>\n      <th>4</th>\n      <td>6</td>\n      <td>0.887684</td>\n      <td>0.766742</td>\n      <td>0.868199</td>\n    </tr>\n    <tr>\n      <th>5</th>\n      <td>7</td>\n      <td>0.856764</td>\n      <td>0.795643</td>\n      <td>0.840128</td>\n    </tr>\n    <tr>\n      <th>6</th>\n      <td>8</td>\n      <td>0.815282</td>\n      <td>0.784002</td>\n      <td>0.800706</td>\n    </tr>\n    <tr>\n      <th>7</th>\n      <td>9</td>\n      <td>0.791010</td>\n      <td>0.792050</td>\n      <td>0.786577</td>\n    </tr>\n  </tbody>\n</table>\n</div>"
     },
     "metadata": {},
     "execution_count": 18
    }
   ],
   "source": [
    "results_km = {\n",
    "    \"K\": list(range(2, 10)),\n",
    "    \"No\": scores_km,\n",
    "    \"SS\": scores_km_pr,\n",
    "    \"MABS\": scores_km_mabs\n",
    "}\n",
    "pd.DataFrame(results_km)"
   ]
  },
  {
   "source": [
    "## Spectral Clustering\n",
    "\n",
    "### Nearest Neighbor"
   ],
   "cell_type": "markdown",
   "metadata": {}
  },
  {
   "cell_type": "code",
   "execution_count": 22,
   "metadata": {},
   "outputs": [
    {
     "output_type": "stream",
     "name": "stdout",
     "text": [
      "[0, 4, 4, 0.9242274366149581]\n",
      "[0, 4, 5, 0.9242274366149583]\n",
      "[0, 4, 6, 0.9242274366149584]\n",
      "[0, 4, 7, 0.9242274366149583]\n",
      "[0, 4, 8, 0.9242274366149583]\n",
      "[0, 4, 9, 0.8660362807864445]\n",
      "[0, 5, 4, 0.9806599357371502]\n",
      "[0, 5, 5, 0.9847702095491678]\n",
      "[0, 5, 6, 0.9757257926855082]\n",
      "[0, 5, 7, 0.9762785050842377]\n",
      "[0, 5, 8, 0.9707082163427541]\n",
      "[0, 5, 9, 0.9721787806206892]\n",
      "[0, 6, 4, 0.9245560556676518]\n",
      "[0, 6, 5, 0.9372444167772981]\n",
      "[0, 6, 6, 0.9329041202533983]\n",
      "[0, 6, 7, 0.9295109398012777]\n",
      "[0, 6, 8, 0.930127180295621]\n",
      "[0, 6, 9, 0.9344621922389881]\n"
     ]
    }
   ],
   "source": [
    "scores_spc_nn_1 = []\n",
    "labels_spc_nn_1 = []\n",
    "\n",
    "i = 0\n",
    "for data_set_num, dt in enumerate([data]): # Data preprocess type\n",
    "    for nc in range(4, 7): # Cluster num\n",
    "        for nn in range(4, 10):\n",
    "            spc = SpectralClustering(\n",
    "                                n_clusters = nc,\n",
    "                                affinity = \"nearest_neighbors\",\n",
    "                                n_neighbors = nn,\n",
    "                                n_jobs = 3\n",
    "                            )\n",
    "\n",
    "            labels = spc.fit_predict(dt)\n",
    "            labels_spc_nn_1.append(labels)\n",
    "\n",
    "            score = [data_set_num, nc, nn, nmi_score(labels_true, labels)]\n",
    "            print(score)\n",
    "            scores_spc_nn_1.append(score)"
   ]
  },
  {
   "cell_type": "code",
   "execution_count": 26,
   "metadata": {},
   "outputs": [
    {
     "output_type": "execute_result",
     "data": {
      "text/plain": [
       "    CN  NN     Score\n",
       "0    4   4  0.924227\n",
       "1    4   5  0.924227\n",
       "2    4   6  0.924227\n",
       "3    4   7  0.924227\n",
       "4    4   8  0.924227\n",
       "5    4   9  0.866036\n",
       "6    5   4  0.980660\n",
       "7    5   5  0.984770\n",
       "8    5   6  0.975726\n",
       "9    5   7  0.976279\n",
       "10   5   8  0.970708\n",
       "11   5   9  0.972179\n",
       "12   6   4  0.924556\n",
       "13   6   5  0.937244\n",
       "14   6   6  0.932904\n",
       "15   6   7  0.929511\n",
       "16   6   8  0.930127\n",
       "17   6   9  0.934462"
      ],
      "text/html": "<div>\n<style scoped>\n    .dataframe tbody tr th:only-of-type {\n        vertical-align: middle;\n    }\n\n    .dataframe tbody tr th {\n        vertical-align: top;\n    }\n\n    .dataframe thead th {\n        text-align: right;\n    }\n</style>\n<table border=\"1\" class=\"dataframe\">\n  <thead>\n    <tr style=\"text-align: right;\">\n      <th></th>\n      <th>CN</th>\n      <th>NN</th>\n      <th>Score</th>\n    </tr>\n  </thead>\n  <tbody>\n    <tr>\n      <th>0</th>\n      <td>4</td>\n      <td>4</td>\n      <td>0.924227</td>\n    </tr>\n    <tr>\n      <th>1</th>\n      <td>4</td>\n      <td>5</td>\n      <td>0.924227</td>\n    </tr>\n    <tr>\n      <th>2</th>\n      <td>4</td>\n      <td>6</td>\n      <td>0.924227</td>\n    </tr>\n    <tr>\n      <th>3</th>\n      <td>4</td>\n      <td>7</td>\n      <td>0.924227</td>\n    </tr>\n    <tr>\n      <th>4</th>\n      <td>4</td>\n      <td>8</td>\n      <td>0.924227</td>\n    </tr>\n    <tr>\n      <th>5</th>\n      <td>4</td>\n      <td>9</td>\n      <td>0.866036</td>\n    </tr>\n    <tr>\n      <th>6</th>\n      <td>5</td>\n      <td>4</td>\n      <td>0.980660</td>\n    </tr>\n    <tr>\n      <th>7</th>\n      <td>5</td>\n      <td>5</td>\n      <td>0.984770</td>\n    </tr>\n    <tr>\n      <th>8</th>\n      <td>5</td>\n      <td>6</td>\n      <td>0.975726</td>\n    </tr>\n    <tr>\n      <th>9</th>\n      <td>5</td>\n      <td>7</td>\n      <td>0.976279</td>\n    </tr>\n    <tr>\n      <th>10</th>\n      <td>5</td>\n      <td>8</td>\n      <td>0.970708</td>\n    </tr>\n    <tr>\n      <th>11</th>\n      <td>5</td>\n      <td>9</td>\n      <td>0.972179</td>\n    </tr>\n    <tr>\n      <th>12</th>\n      <td>6</td>\n      <td>4</td>\n      <td>0.924556</td>\n    </tr>\n    <tr>\n      <th>13</th>\n      <td>6</td>\n      <td>5</td>\n      <td>0.937244</td>\n    </tr>\n    <tr>\n      <th>14</th>\n      <td>6</td>\n      <td>6</td>\n      <td>0.932904</td>\n    </tr>\n    <tr>\n      <th>15</th>\n      <td>6</td>\n      <td>7</td>\n      <td>0.929511</td>\n    </tr>\n    <tr>\n      <th>16</th>\n      <td>6</td>\n      <td>8</td>\n      <td>0.930127</td>\n    </tr>\n    <tr>\n      <th>17</th>\n      <td>6</td>\n      <td>9</td>\n      <td>0.934462</td>\n    </tr>\n  </tbody>\n</table>\n</div>"
     },
     "metadata": {},
     "execution_count": 26
    }
   ],
   "source": [
    "pd.DataFrame(scores_spc_nn_1, columns = [\"dt\", \"CN\", \"NN\", \"Score\"]).iloc[:, 1:4]"
   ]
  },
  {
   "cell_type": "code",
   "execution_count": 27,
   "metadata": {},
   "outputs": [
    {
     "output_type": "stream",
     "name": "stdout",
     "text": [
      "[0, 4, 4, 0.8965106299116461]\n",
      "[0, 4, 5, 0.8981643894047692]\n",
      "[0, 4, 6, 0.8981643894047692]\n",
      "[0, 4, 7, 0.8391665746262451]\n",
      "[0, 4, 8, 0.8277858705114417]\n",
      "[0, 4, 9, 0.8364955870323538]\n",
      "[0, 5, 4, 0.9088623597457639]\n",
      "[0, 5, 5, 0.9485802550113134]\n",
      "[0, 5, 6, 0.9521905204425134]\n",
      "[0, 5, 7, 0.9665000951941088]\n",
      "[0, 5, 8, 0.9527958938773574]\n",
      "[0, 5, 9, 0.9434884221018295]\n",
      "[0, 6, 4, 0.9086605946294803]\n",
      "[0, 6, 5, 0.9088108202075943]\n",
      "[0, 6, 6, 0.9099455343143568]\n",
      "[0, 6, 7, 0.9247786084922212]\n",
      "[0, 6, 8, 0.9094402150458779]\n",
      "[0, 6, 9, 0.9034440233920327]\n"
     ]
    }
   ],
   "source": [
    "scores_spc_nn_2 = []\n",
    "labels_spc_nn_2 = []\n",
    "\n",
    "i = 0\n",
    "for data_set_num, dt in enumerate([data_ss]): # Data preprocess type\n",
    "    for nc in range(4, 7): # Cluster num\n",
    "        for nn in range(4, 10):\n",
    "            spc = SpectralClustering(\n",
    "                                n_clusters = nc,\n",
    "                                affinity = \"nearest_neighbors\",\n",
    "                                n_neighbors = nn,\n",
    "                                n_jobs = 3\n",
    "                            )\n",
    "\n",
    "            labels = spc.fit_predict(dt)\n",
    "            labels_spc_nn_2.append(labels)\n",
    "\n",
    "            score = [data_set_num, nc, nn, nmi_score(labels_true, labels)]\n",
    "            print(score)\n",
    "            scores_spc_nn_2.append(score)"
   ]
  },
  {
   "cell_type": "code",
   "execution_count": 28,
   "metadata": {},
   "outputs": [
    {
     "output_type": "execute_result",
     "data": {
      "text/plain": [
       "    CN  NN     Score\n",
       "0    4   4  0.896511\n",
       "1    4   5  0.898164\n",
       "2    4   6  0.898164\n",
       "3    4   7  0.839167\n",
       "4    4   8  0.827786\n",
       "5    4   9  0.836496\n",
       "6    5   4  0.908862\n",
       "7    5   5  0.948580\n",
       "8    5   6  0.952191\n",
       "9    5   7  0.966500\n",
       "10   5   8  0.952796\n",
       "11   5   9  0.943488\n",
       "12   6   4  0.908661\n",
       "13   6   5  0.908811\n",
       "14   6   6  0.909946\n",
       "15   6   7  0.924779\n",
       "16   6   8  0.909440\n",
       "17   6   9  0.903444"
      ],
      "text/html": "<div>\n<style scoped>\n    .dataframe tbody tr th:only-of-type {\n        vertical-align: middle;\n    }\n\n    .dataframe tbody tr th {\n        vertical-align: top;\n    }\n\n    .dataframe thead th {\n        text-align: right;\n    }\n</style>\n<table border=\"1\" class=\"dataframe\">\n  <thead>\n    <tr style=\"text-align: right;\">\n      <th></th>\n      <th>CN</th>\n      <th>NN</th>\n      <th>Score</th>\n    </tr>\n  </thead>\n  <tbody>\n    <tr>\n      <th>0</th>\n      <td>4</td>\n      <td>4</td>\n      <td>0.896511</td>\n    </tr>\n    <tr>\n      <th>1</th>\n      <td>4</td>\n      <td>5</td>\n      <td>0.898164</td>\n    </tr>\n    <tr>\n      <th>2</th>\n      <td>4</td>\n      <td>6</td>\n      <td>0.898164</td>\n    </tr>\n    <tr>\n      <th>3</th>\n      <td>4</td>\n      <td>7</td>\n      <td>0.839167</td>\n    </tr>\n    <tr>\n      <th>4</th>\n      <td>4</td>\n      <td>8</td>\n      <td>0.827786</td>\n    </tr>\n    <tr>\n      <th>5</th>\n      <td>4</td>\n      <td>9</td>\n      <td>0.836496</td>\n    </tr>\n    <tr>\n      <th>6</th>\n      <td>5</td>\n      <td>4</td>\n      <td>0.908862</td>\n    </tr>\n    <tr>\n      <th>7</th>\n      <td>5</td>\n      <td>5</td>\n      <td>0.948580</td>\n    </tr>\n    <tr>\n      <th>8</th>\n      <td>5</td>\n      <td>6</td>\n      <td>0.952191</td>\n    </tr>\n    <tr>\n      <th>9</th>\n      <td>5</td>\n      <td>7</td>\n      <td>0.966500</td>\n    </tr>\n    <tr>\n      <th>10</th>\n      <td>5</td>\n      <td>8</td>\n      <td>0.952796</td>\n    </tr>\n    <tr>\n      <th>11</th>\n      <td>5</td>\n      <td>9</td>\n      <td>0.943488</td>\n    </tr>\n    <tr>\n      <th>12</th>\n      <td>6</td>\n      <td>4</td>\n      <td>0.908661</td>\n    </tr>\n    <tr>\n      <th>13</th>\n      <td>6</td>\n      <td>5</td>\n      <td>0.908811</td>\n    </tr>\n    <tr>\n      <th>14</th>\n      <td>6</td>\n      <td>6</td>\n      <td>0.909946</td>\n    </tr>\n    <tr>\n      <th>15</th>\n      <td>6</td>\n      <td>7</td>\n      <td>0.924779</td>\n    </tr>\n    <tr>\n      <th>16</th>\n      <td>6</td>\n      <td>8</td>\n      <td>0.909440</td>\n    </tr>\n    <tr>\n      <th>17</th>\n      <td>6</td>\n      <td>9</td>\n      <td>0.903444</td>\n    </tr>\n  </tbody>\n</table>\n</div>"
     },
     "metadata": {},
     "execution_count": 28
    }
   ],
   "source": [
    "pd.DataFrame(scores_spc_nn_2, columns = [\"dt\", \"CN\", \"NN\", \"Score\"]).iloc[:, 1:4]"
   ]
  },
  {
   "cell_type": "code",
   "execution_count": 177,
   "metadata": {},
   "outputs": [
    {
     "output_type": "execute_result",
     "data": {
      "text/plain": [
       "ds       0.0000\n",
       "nc       5.0000\n",
       "nn       7.0000\n",
       "score    0.9665\n",
       "Name: 9, dtype: float64"
      ]
     },
     "metadata": {},
     "execution_count": 177
    }
   ],
   "source": [
    "df_spc_nn_2 = pd.DataFrame(data = scores_spc_nn_2, columns = [\"ds\", \"nc\", \"nn\", \"score\"])\n",
    "df_spc_nn_2.iloc[df_spc_nn_2[\"score\"].idxmax(),:] "
   ]
  },
  {
   "cell_type": "code",
   "execution_count": 29,
   "metadata": {},
   "outputs": [
    {
     "output_type": "stream",
     "name": "stdout",
     "text": [
      "[0, 4, 4, 0.9205179669041921]\n",
      "[0, 4, 5, 0.861240396022072]\n",
      "[0, 4, 6, 0.8614495291401612]\n",
      "[0, 4, 7, 0.8660362807864445]\n",
      "[0, 4, 8, 0.9242274366149583]\n",
      "[0, 4, 9, 0.8598605227269055]\n",
      "[0, 5, 4, 0.9774353402417695]\n",
      "[0, 5, 5, 0.975961611862692]\n",
      "[0, 5, 6, 0.9566327824128877]\n",
      "[0, 5, 7, 0.9774353402417695]\n",
      "[0, 5, 8, 0.9654463689286722]\n",
      "[0, 5, 9, 0.9774353402417694]\n",
      "[0, 6, 4, 0.9209520935768425]\n",
      "[0, 6, 5, 0.9323883209786678]\n",
      "[0, 6, 6, 0.9256868597089081]\n",
      "[0, 6, 7, 0.9295109398012779]\n",
      "[0, 6, 8, 0.9295109398012776]\n",
      "[0, 6, 9, 0.9344621922389881]\n"
     ]
    }
   ],
   "source": [
    "scores_spc_nn_3 = []\n",
    "labels_spc_nn_3 = []\n",
    "\n",
    "i = 0\n",
    "for data_set_num, dt in enumerate([data_mabs]): # Data preprocess type\n",
    "    for nc in range(4, 7): # Cluster num\n",
    "        for nn in range(4, 10):\n",
    "            spc = SpectralClustering(\n",
    "                                n_clusters = nc,\n",
    "                                affinity = \"nearest_neighbors\",\n",
    "                                n_neighbors = nn,\n",
    "                                n_jobs = 3\n",
    "                            )\n",
    "\n",
    "            labels = spc.fit_predict(dt)\n",
    "            labels_spc_nn_3.append(labels)\n",
    "\n",
    "            score = [data_set_num, nc, nn, nmi_score(labels_true, labels)]\n",
    "            print(score)\n",
    "            scores_spc_nn_3.append(score)"
   ]
  },
  {
   "cell_type": "code",
   "execution_count": 30,
   "metadata": {},
   "outputs": [
    {
     "output_type": "execute_result",
     "data": {
      "text/plain": [
       "    CN  NN     Score\n",
       "0    4   4  0.920518\n",
       "1    4   5  0.861240\n",
       "2    4   6  0.861450\n",
       "3    4   7  0.866036\n",
       "4    4   8  0.924227\n",
       "5    4   9  0.859861\n",
       "6    5   4  0.977435\n",
       "7    5   5  0.975962\n",
       "8    5   6  0.956633\n",
       "9    5   7  0.977435\n",
       "10   5   8  0.965446\n",
       "11   5   9  0.977435\n",
       "12   6   4  0.920952\n",
       "13   6   5  0.932388\n",
       "14   6   6  0.925687\n",
       "15   6   7  0.929511\n",
       "16   6   8  0.929511\n",
       "17   6   9  0.934462"
      ],
      "text/html": "<div>\n<style scoped>\n    .dataframe tbody tr th:only-of-type {\n        vertical-align: middle;\n    }\n\n    .dataframe tbody tr th {\n        vertical-align: top;\n    }\n\n    .dataframe thead th {\n        text-align: right;\n    }\n</style>\n<table border=\"1\" class=\"dataframe\">\n  <thead>\n    <tr style=\"text-align: right;\">\n      <th></th>\n      <th>CN</th>\n      <th>NN</th>\n      <th>Score</th>\n    </tr>\n  </thead>\n  <tbody>\n    <tr>\n      <th>0</th>\n      <td>4</td>\n      <td>4</td>\n      <td>0.920518</td>\n    </tr>\n    <tr>\n      <th>1</th>\n      <td>4</td>\n      <td>5</td>\n      <td>0.861240</td>\n    </tr>\n    <tr>\n      <th>2</th>\n      <td>4</td>\n      <td>6</td>\n      <td>0.861450</td>\n    </tr>\n    <tr>\n      <th>3</th>\n      <td>4</td>\n      <td>7</td>\n      <td>0.866036</td>\n    </tr>\n    <tr>\n      <th>4</th>\n      <td>4</td>\n      <td>8</td>\n      <td>0.924227</td>\n    </tr>\n    <tr>\n      <th>5</th>\n      <td>4</td>\n      <td>9</td>\n      <td>0.859861</td>\n    </tr>\n    <tr>\n      <th>6</th>\n      <td>5</td>\n      <td>4</td>\n      <td>0.977435</td>\n    </tr>\n    <tr>\n      <th>7</th>\n      <td>5</td>\n      <td>5</td>\n      <td>0.975962</td>\n    </tr>\n    <tr>\n      <th>8</th>\n      <td>5</td>\n      <td>6</td>\n      <td>0.956633</td>\n    </tr>\n    <tr>\n      <th>9</th>\n      <td>5</td>\n      <td>7</td>\n      <td>0.977435</td>\n    </tr>\n    <tr>\n      <th>10</th>\n      <td>5</td>\n      <td>8</td>\n      <td>0.965446</td>\n    </tr>\n    <tr>\n      <th>11</th>\n      <td>5</td>\n      <td>9</td>\n      <td>0.977435</td>\n    </tr>\n    <tr>\n      <th>12</th>\n      <td>6</td>\n      <td>4</td>\n      <td>0.920952</td>\n    </tr>\n    <tr>\n      <th>13</th>\n      <td>6</td>\n      <td>5</td>\n      <td>0.932388</td>\n    </tr>\n    <tr>\n      <th>14</th>\n      <td>6</td>\n      <td>6</td>\n      <td>0.925687</td>\n    </tr>\n    <tr>\n      <th>15</th>\n      <td>6</td>\n      <td>7</td>\n      <td>0.929511</td>\n    </tr>\n    <tr>\n      <th>16</th>\n      <td>6</td>\n      <td>8</td>\n      <td>0.929511</td>\n    </tr>\n    <tr>\n      <th>17</th>\n      <td>6</td>\n      <td>9</td>\n      <td>0.934462</td>\n    </tr>\n  </tbody>\n</table>\n</div>"
     },
     "metadata": {},
     "execution_count": 30
    }
   ],
   "source": [
    "pd.DataFrame(scores_spc_nn_3, columns = [\"dt\", \"CN\", \"NN\", \"Score\"]).iloc[:, 1:4]"
   ]
  },
  {
   "cell_type": "code",
   "execution_count": 234,
   "metadata": {},
   "outputs": [
    {
     "output_type": "execute_result",
     "data": {
      "text/plain": [
       "ds       0.000000\n",
       "nc       5.000000\n",
       "nn       4.000000\n",
       "score    0.977435\n",
       "Name: 6, dtype: float64"
      ]
     },
     "metadata": {},
     "execution_count": 234
    }
   ],
   "source": [
    "df_spc_nn_3 = pd.DataFrame(data = scores_spc_nn_3, columns = [\"ds\", \"nc\", \"nn\", \"score\"])\n",
    "df_spc_nn_3.iloc[df_spc_nn_3[\"score\"].idxmax(),:] "
   ]
  },
  {
   "source": [
    "Spectral clustering with nearest_neighbor affinity with k=4|5 seems to work the best\n",
    "\n",
    "### PCA"
   ],
   "cell_type": "markdown",
   "metadata": {}
  },
  {
   "cell_type": "code",
   "execution_count": 40,
   "metadata": {},
   "outputs": [
    {
     "output_type": "stream",
     "name": "stdout",
     "text": [
      "0 0.9850810002988509\n",
      "1 0.9850810002988512\n",
      "2 0.9850810002988509\n",
      "3 0.9903424385740336\n",
      "x\n",
      "4 0.9850810002988509\n",
      "5 0.9850810002988509\n",
      "6 0.9850810002988509\n",
      "7 0.9850810002988509\n"
     ]
    }
   ],
   "source": [
    "scores_spc_nn_pca = []\n",
    "labels_spc_nn_pca = []\n",
    "\n",
    "spc = SpectralClustering(\n",
    "                                n_clusters = 5,\n",
    "                                affinity = \"nearest_neighbors\",\n",
    "                                n_neighbors = 5,\n",
    "                                n_jobs = 3\n",
    "                            )\n",
    "\n",
    "for i, da in enumerate(data_pca):\n",
    "    labels = spc.fit_predict(da)\n",
    "    score = nmi_score(labels_true, labels)\n",
    "\n",
    "    scores_spc_nn_pca.append(score)\n",
    "    labels_spc_nn_pca.append(labels)\n",
    "\n",
    "    print(i, score)\n",
    "    if score > 0.99:\n",
    "        print(\"x\")"
   ]
  },
  {
   "cell_type": "code",
   "execution_count": 41,
   "metadata": {},
   "outputs": [
    {
     "output_type": "execute_result",
     "data": {
      "text/plain": [
       "      score  >0.99\n",
       "0  0.985081  False\n",
       "1  0.985081  False\n",
       "2  0.985081  False\n",
       "3  0.990342   True\n",
       "4  0.985081  False\n",
       "5  0.985081  False\n",
       "6  0.985081  False\n",
       "7  0.985081  False"
      ],
      "text/html": "<div>\n<style scoped>\n    .dataframe tbody tr th:only-of-type {\n        vertical-align: middle;\n    }\n\n    .dataframe tbody tr th {\n        vertical-align: top;\n    }\n\n    .dataframe thead th {\n        text-align: right;\n    }\n</style>\n<table border=\"1\" class=\"dataframe\">\n  <thead>\n    <tr style=\"text-align: right;\">\n      <th></th>\n      <th>score</th>\n      <th>&gt;0.99</th>\n    </tr>\n  </thead>\n  <tbody>\n    <tr>\n      <th>0</th>\n      <td>0.985081</td>\n      <td>False</td>\n    </tr>\n    <tr>\n      <th>1</th>\n      <td>0.985081</td>\n      <td>False</td>\n    </tr>\n    <tr>\n      <th>2</th>\n      <td>0.985081</td>\n      <td>False</td>\n    </tr>\n    <tr>\n      <th>3</th>\n      <td>0.990342</td>\n      <td>True</td>\n    </tr>\n    <tr>\n      <th>4</th>\n      <td>0.985081</td>\n      <td>False</td>\n    </tr>\n    <tr>\n      <th>5</th>\n      <td>0.985081</td>\n      <td>False</td>\n    </tr>\n    <tr>\n      <th>6</th>\n      <td>0.985081</td>\n      <td>False</td>\n    </tr>\n    <tr>\n      <th>7</th>\n      <td>0.985081</td>\n      <td>False</td>\n    </tr>\n  </tbody>\n</table>\n</div>"
     },
     "metadata": {},
     "execution_count": 41
    }
   ],
   "source": [
    "results_spc_nn_pca = {\n",
    "    \"score\": scores_spc_nn_pca,\n",
    "    \">0.99\": np.array(scores_spc_nn_pca) > 0.99\n",
    "}\n",
    "pd.DataFrame(results_spc_nn_pca, index = list(range(8)))"
   ]
  },
  {
   "cell_type": "code",
   "execution_count": 46,
   "metadata": {},
   "outputs": [
    {
     "output_type": "execute_result",
     "data": {
      "text/plain": [
       "0.9903424385740336"
      ]
     },
     "metadata": {},
     "execution_count": 46
    }
   ],
   "source": [
    "max_i = np.argmax(scores_spc_nn_pca)\n",
    "max_labels = labels_spc_nn_pca[max_i]\n",
    "scores_spc_nn_pca[max_i]"
   ]
  },
  {
   "source": [
    "This is the best NMI score I've found. PCA with 600 components, spectral clustering with nearest neighbor with n = 5."
   ],
   "cell_type": "markdown",
   "metadata": {}
  },
  {
   "source": [
    "### RBF"
   ],
   "cell_type": "markdown",
   "metadata": {}
  },
  {
   "cell_type": "code",
   "execution_count": 43,
   "metadata": {},
   "outputs": [
    {
     "output_type": "stream",
     "name": "stdout",
     "text": [
      "[0, 4, 0.007031035878852713]\n",
      "[0, 5, 0.009823278640728586]\n",
      "[0, 6, 0.005631345818493155]\n",
      "[1, 4, 0.004726602017755797]\n",
      "[1, 5, 0.006440611684208549]\n",
      "[1, 6, 0.006356448825753246]\n"
     ]
    }
   ],
   "source": [
    "scores_spc_rbf = []\n",
    "labels_spc_rbf = []\n",
    "\n",
    "i = 0\n",
    "for data_set_num, dt in enumerate([data, data_ss]): # Data preprocess type\n",
    "    for nc in range(4, 7): # Cluster num\n",
    "        spc = SpectralClustering(\n",
    "                            n_clusters = nc,\n",
    "                            affinity = \"rbf\",\n",
    "                            n_jobs = 3\n",
    "                        )\n",
    "\n",
    "        labels = spc.fit_predict(dt)\n",
    "        labels_spc_rbf.append(labels)\n",
    "\n",
    "        score = [data_set_num, nc, nmi_score(labels_true, labels)]\n",
    "        print(score)\n",
    "        scores_spc_rbf.append(score)"
   ]
  },
  {
   "cell_type": "code",
   "execution_count": 45,
   "metadata": {},
   "outputs": [
    {
     "output_type": "execute_result",
     "data": {
      "text/plain": [
       "   CN     Score\n",
       "0   4  0.007031\n",
       "1   5  0.009823\n",
       "2   6  0.005631\n",
       "3   4  0.004727\n",
       "4   5  0.006441\n",
       "5   6  0.006356"
      ],
      "text/html": "<div>\n<style scoped>\n    .dataframe tbody tr th:only-of-type {\n        vertical-align: middle;\n    }\n\n    .dataframe tbody tr th {\n        vertical-align: top;\n    }\n\n    .dataframe thead th {\n        text-align: right;\n    }\n</style>\n<table border=\"1\" class=\"dataframe\">\n  <thead>\n    <tr style=\"text-align: right;\">\n      <th></th>\n      <th>CN</th>\n      <th>Score</th>\n    </tr>\n  </thead>\n  <tbody>\n    <tr>\n      <th>0</th>\n      <td>4</td>\n      <td>0.007031</td>\n    </tr>\n    <tr>\n      <th>1</th>\n      <td>5</td>\n      <td>0.009823</td>\n    </tr>\n    <tr>\n      <th>2</th>\n      <td>6</td>\n      <td>0.005631</td>\n    </tr>\n    <tr>\n      <th>3</th>\n      <td>4</td>\n      <td>0.004727</td>\n    </tr>\n    <tr>\n      <th>4</th>\n      <td>5</td>\n      <td>0.006441</td>\n    </tr>\n    <tr>\n      <th>5</th>\n      <td>6</td>\n      <td>0.006356</td>\n    </tr>\n  </tbody>\n</table>\n</div>"
     },
     "metadata": {},
     "execution_count": 45
    }
   ],
   "source": [
    "pd.DataFrame(scores_spc_rbf, columns = [\"dt\", \"CN\", \"Score\"]).iloc[:, 1:3]"
   ]
  },
  {
   "cell_type": "code",
   "execution_count": 183,
   "metadata": {},
   "outputs": [
    {
     "output_type": "execute_result",
     "data": {
      "text/plain": [
       "ds       0.000000\n",
       "nc       4.000000\n",
       "score    0.007489\n",
       "Name: 0, dtype: float64"
      ]
     },
     "metadata": {},
     "execution_count": 183
    }
   ],
   "source": [
    "df_spc_rbf = pd.DataFrame(data = scores_spc_rbf, columns = [\"ds\", \"nc\", \"score\"])\n",
    "df_spc_rbf.iloc[df_spc_rbf[\"score\"].idxmax(),:] "
   ]
  },
  {
   "source": [
    "## Solution"
   ],
   "cell_type": "markdown",
   "metadata": {}
  },
  {
   "source": [
    "The best method we found was spectral clustering with pca preprocessed data with 600 components kept, 5 clusters, affinity matrix constructed with n-nearest neighbors with n = 5. The resulting NMI was ~0.9903."
   ],
   "cell_type": "markdown",
   "metadata": {}
  },
  {
   "cell_type": "code",
   "execution_count": 47,
   "metadata": {},
   "outputs": [],
   "source": [
    "with open(\"solution1.txt\", \"w\") as solution:\n",
    "    for l in max_labels:\n",
    "        solution.write(\"{}\\n\".format(str(l)))"
   ]
  }
 ]
}