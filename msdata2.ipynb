{
 "cells": [
  {
   "cell_type": "markdown",
   "metadata": {},
   "source": [
    "# MSdata Task\n",
    "\n",
    "**Preprocessing:**\n",
    "\n",
    "* Scaling\n",
    "    * Mean centering and dividing by standard deviation\n",
    "\n",
    "**Methods:**\n",
    "\n",
    "* K-means\n",
    "* Spectral clustering\n",
    "* Agglomerative clustering\n",
    "\n",
    "**Results:**\n",
    "\n",
    "Na"
   ]
  },
  {
   "cell_type": "markdown",
   "metadata": {},
   "source": [
    "## Setup"
   ]
  },
  {
   "cell_type": "code",
   "execution_count": 1,
   "metadata": {},
   "outputs": [],
   "source": [
    "import pandas as pd\n",
    "import numpy as np\n",
    "\n",
    "# Clustering methods\n",
    "from sklearn.cluster import KMeans\n",
    "from sklearn.cluster import AgglomerativeClustering\n",
    "from sklearn.cluster import SpectralClustering\n",
    "\n",
    "# Metrics\n",
    "from sklearn.metrics.cluster import normalized_mutual_info_score\n",
    "\n",
    "# Preprocessing\n",
    "from sklearn.preprocessing import StandardScaler\n",
    "from sklearn.preprocessing import MaxAbsScaler\n",
    "from sklearn.decomposition import PCA\n",
    "from sklearn.metrics.pairwise import cosine_similarity\n",
    "from sklearn.metrics.pairwise import euclidean_distances\n",
    "from sklearn.neighbors import DistanceMetric"
   ]
  },
  {
   "cell_type": "code",
   "execution_count": 2,
   "metadata": {},
   "outputs": [
    {
     "output_type": "execute_result",
     "data": {
      "text/plain": [
       "      id  class       f1       f2       f3       f4       f5       f6  \\\n",
       "0      1      1  14.7476  15.3005  17.4703  14.8223  17.0740  14.7568   \n",
       "1      2      1  16.1612  15.6718  17.6609  17.6090  17.4288  15.4954   \n",
       "2      3      1  16.3225  15.4946  17.3564  14.8182  17.7625  14.4539   \n",
       "3      4      1  15.4337  14.6519  17.4111  16.6048  17.2341  15.0404   \n",
       "4      5      1  16.0579  15.1974  17.4781  16.7797  17.6097  15.4278   \n",
       "..   ...    ...      ...      ...      ...      ...      ...      ...   \n",
       "689  690      3  11.0183   8.9493  17.5035  15.0010  17.5672  14.4627   \n",
       "690  691      3   8.9789  15.5676  17.6476  17.3428  10.6311  14.4161   \n",
       "691  692      3  16.1161  15.4710   9.8349  18.5084   8.6035   7.5401   \n",
       "692  693      3  16.0459  15.2779  17.5605  17.4232  16.8446  14.3926   \n",
       "693  694      3  15.6512  15.2866  10.4978  12.0691  17.5153   9.5133   \n",
       "\n",
       "          f7       f8  ...    f4991    f4992    f4993    f4994    f4995  \\\n",
       "0    10.6366  11.3165  ...  17.8866   6.8360  12.7977  15.6400  16.1506   \n",
       "1     9.5740  14.8143  ...  17.7767  15.2447  13.9961  15.9585  16.4648   \n",
       "2    11.1484  13.8300  ...  17.6984  11.6416  12.8275  14.9895  16.4143   \n",
       "3    11.4655  10.3837  ...  17.7769  15.0042  13.2926  16.0378  16.1182   \n",
       "4     8.7012  13.9750  ...  17.6669  15.1619  13.6530  15.3895  16.2457   \n",
       "..       ...      ...  ...      ...      ...      ...      ...      ...   \n",
       "689   8.2306  14.3206  ...   9.9268  15.2167  13.5536  15.7954   9.8979   \n",
       "690  16.4037  14.5159  ...  17.8073  14.7698  14.6110  16.0002  16.1689   \n",
       "691  14.2796  13.7709  ...  17.6998  16.0514   9.4812  10.6424  16.0951   \n",
       "692  17.6199  14.3125  ...  17.8582  15.2462  14.0752  15.8942  15.9932   \n",
       "693  15.2864  14.4935  ...   9.5455  15.3668   9.4161  16.0304  15.6449   \n",
       "\n",
       "       f4996    f4997    f4998    f4999    f5000  \n",
       "0    17.1062  14.7575  13.4128  14.1470  18.4883  \n",
       "1    17.4712  15.0304  14.1189  14.8040  19.4082  \n",
       "2    17.6745  14.7615  12.9050  14.7798  18.9794  \n",
       "3    16.7441  14.8373  13.3637  13.9702  18.1746  \n",
       "4    17.4527  14.9707  12.5546  14.8331  19.0512  \n",
       "..       ...      ...      ...      ...      ...  \n",
       "689  17.8046  18.2610   7.8796   6.9577  13.7735  \n",
       "690  17.4165  18.3884   8.8354  10.4884  19.0953  \n",
       "691   8.7562  18.6430  13.3147  13.6202  18.1803  \n",
       "692  17.3534  18.6915  13.2952  14.7476  18.4206  \n",
       "693  17.2435  17.8637  13.0658  14.3678  18.2477  \n",
       "\n",
       "[694 rows x 5002 columns]"
      ],
      "text/html": "<div>\n<style scoped>\n    .dataframe tbody tr th:only-of-type {\n        vertical-align: middle;\n    }\n\n    .dataframe tbody tr th {\n        vertical-align: top;\n    }\n\n    .dataframe thead th {\n        text-align: right;\n    }\n</style>\n<table border=\"1\" class=\"dataframe\">\n  <thead>\n    <tr style=\"text-align: right;\">\n      <th></th>\n      <th>id</th>\n      <th>class</th>\n      <th>f1</th>\n      <th>f2</th>\n      <th>f3</th>\n      <th>f4</th>\n      <th>f5</th>\n      <th>f6</th>\n      <th>f7</th>\n      <th>f8</th>\n      <th>...</th>\n      <th>f4991</th>\n      <th>f4992</th>\n      <th>f4993</th>\n      <th>f4994</th>\n      <th>f4995</th>\n      <th>f4996</th>\n      <th>f4997</th>\n      <th>f4998</th>\n      <th>f4999</th>\n      <th>f5000</th>\n    </tr>\n  </thead>\n  <tbody>\n    <tr>\n      <th>0</th>\n      <td>1</td>\n      <td>1</td>\n      <td>14.7476</td>\n      <td>15.3005</td>\n      <td>17.4703</td>\n      <td>14.8223</td>\n      <td>17.0740</td>\n      <td>14.7568</td>\n      <td>10.6366</td>\n      <td>11.3165</td>\n      <td>...</td>\n      <td>17.8866</td>\n      <td>6.8360</td>\n      <td>12.7977</td>\n      <td>15.6400</td>\n      <td>16.1506</td>\n      <td>17.1062</td>\n      <td>14.7575</td>\n      <td>13.4128</td>\n      <td>14.1470</td>\n      <td>18.4883</td>\n    </tr>\n    <tr>\n      <th>1</th>\n      <td>2</td>\n      <td>1</td>\n      <td>16.1612</td>\n      <td>15.6718</td>\n      <td>17.6609</td>\n      <td>17.6090</td>\n      <td>17.4288</td>\n      <td>15.4954</td>\n      <td>9.5740</td>\n      <td>14.8143</td>\n      <td>...</td>\n      <td>17.7767</td>\n      <td>15.2447</td>\n      <td>13.9961</td>\n      <td>15.9585</td>\n      <td>16.4648</td>\n      <td>17.4712</td>\n      <td>15.0304</td>\n      <td>14.1189</td>\n      <td>14.8040</td>\n      <td>19.4082</td>\n    </tr>\n    <tr>\n      <th>2</th>\n      <td>3</td>\n      <td>1</td>\n      <td>16.3225</td>\n      <td>15.4946</td>\n      <td>17.3564</td>\n      <td>14.8182</td>\n      <td>17.7625</td>\n      <td>14.4539</td>\n      <td>11.1484</td>\n      <td>13.8300</td>\n      <td>...</td>\n      <td>17.6984</td>\n      <td>11.6416</td>\n      <td>12.8275</td>\n      <td>14.9895</td>\n      <td>16.4143</td>\n      <td>17.6745</td>\n      <td>14.7615</td>\n      <td>12.9050</td>\n      <td>14.7798</td>\n      <td>18.9794</td>\n    </tr>\n    <tr>\n      <th>3</th>\n      <td>4</td>\n      <td>1</td>\n      <td>15.4337</td>\n      <td>14.6519</td>\n      <td>17.4111</td>\n      <td>16.6048</td>\n      <td>17.2341</td>\n      <td>15.0404</td>\n      <td>11.4655</td>\n      <td>10.3837</td>\n      <td>...</td>\n      <td>17.7769</td>\n      <td>15.0042</td>\n      <td>13.2926</td>\n      <td>16.0378</td>\n      <td>16.1182</td>\n      <td>16.7441</td>\n      <td>14.8373</td>\n      <td>13.3637</td>\n      <td>13.9702</td>\n      <td>18.1746</td>\n    </tr>\n    <tr>\n      <th>4</th>\n      <td>5</td>\n      <td>1</td>\n      <td>16.0579</td>\n      <td>15.1974</td>\n      <td>17.4781</td>\n      <td>16.7797</td>\n      <td>17.6097</td>\n      <td>15.4278</td>\n      <td>8.7012</td>\n      <td>13.9750</td>\n      <td>...</td>\n      <td>17.6669</td>\n      <td>15.1619</td>\n      <td>13.6530</td>\n      <td>15.3895</td>\n      <td>16.2457</td>\n      <td>17.4527</td>\n      <td>14.9707</td>\n      <td>12.5546</td>\n      <td>14.8331</td>\n      <td>19.0512</td>\n    </tr>\n    <tr>\n      <th>...</th>\n      <td>...</td>\n      <td>...</td>\n      <td>...</td>\n      <td>...</td>\n      <td>...</td>\n      <td>...</td>\n      <td>...</td>\n      <td>...</td>\n      <td>...</td>\n      <td>...</td>\n      <td>...</td>\n      <td>...</td>\n      <td>...</td>\n      <td>...</td>\n      <td>...</td>\n      <td>...</td>\n      <td>...</td>\n      <td>...</td>\n      <td>...</td>\n      <td>...</td>\n      <td>...</td>\n    </tr>\n    <tr>\n      <th>689</th>\n      <td>690</td>\n      <td>3</td>\n      <td>11.0183</td>\n      <td>8.9493</td>\n      <td>17.5035</td>\n      <td>15.0010</td>\n      <td>17.5672</td>\n      <td>14.4627</td>\n      <td>8.2306</td>\n      <td>14.3206</td>\n      <td>...</td>\n      <td>9.9268</td>\n      <td>15.2167</td>\n      <td>13.5536</td>\n      <td>15.7954</td>\n      <td>9.8979</td>\n      <td>17.8046</td>\n      <td>18.2610</td>\n      <td>7.8796</td>\n      <td>6.9577</td>\n      <td>13.7735</td>\n    </tr>\n    <tr>\n      <th>690</th>\n      <td>691</td>\n      <td>3</td>\n      <td>8.9789</td>\n      <td>15.5676</td>\n      <td>17.6476</td>\n      <td>17.3428</td>\n      <td>10.6311</td>\n      <td>14.4161</td>\n      <td>16.4037</td>\n      <td>14.5159</td>\n      <td>...</td>\n      <td>17.8073</td>\n      <td>14.7698</td>\n      <td>14.6110</td>\n      <td>16.0002</td>\n      <td>16.1689</td>\n      <td>17.4165</td>\n      <td>18.3884</td>\n      <td>8.8354</td>\n      <td>10.4884</td>\n      <td>19.0953</td>\n    </tr>\n    <tr>\n      <th>691</th>\n      <td>692</td>\n      <td>3</td>\n      <td>16.1161</td>\n      <td>15.4710</td>\n      <td>9.8349</td>\n      <td>18.5084</td>\n      <td>8.6035</td>\n      <td>7.5401</td>\n      <td>14.2796</td>\n      <td>13.7709</td>\n      <td>...</td>\n      <td>17.6998</td>\n      <td>16.0514</td>\n      <td>9.4812</td>\n      <td>10.6424</td>\n      <td>16.0951</td>\n      <td>8.7562</td>\n      <td>18.6430</td>\n      <td>13.3147</td>\n      <td>13.6202</td>\n      <td>18.1803</td>\n    </tr>\n    <tr>\n      <th>692</th>\n      <td>693</td>\n      <td>3</td>\n      <td>16.0459</td>\n      <td>15.2779</td>\n      <td>17.5605</td>\n      <td>17.4232</td>\n      <td>16.8446</td>\n      <td>14.3926</td>\n      <td>17.6199</td>\n      <td>14.3125</td>\n      <td>...</td>\n      <td>17.8582</td>\n      <td>15.2462</td>\n      <td>14.0752</td>\n      <td>15.8942</td>\n      <td>15.9932</td>\n      <td>17.3534</td>\n      <td>18.6915</td>\n      <td>13.2952</td>\n      <td>14.7476</td>\n      <td>18.4206</td>\n    </tr>\n    <tr>\n      <th>693</th>\n      <td>694</td>\n      <td>3</td>\n      <td>15.6512</td>\n      <td>15.2866</td>\n      <td>10.4978</td>\n      <td>12.0691</td>\n      <td>17.5153</td>\n      <td>9.5133</td>\n      <td>15.2864</td>\n      <td>14.4935</td>\n      <td>...</td>\n      <td>9.5455</td>\n      <td>15.3668</td>\n      <td>9.4161</td>\n      <td>16.0304</td>\n      <td>15.6449</td>\n      <td>17.2435</td>\n      <td>17.8637</td>\n      <td>13.0658</td>\n      <td>14.3678</td>\n      <td>18.2477</td>\n    </tr>\n  </tbody>\n</table>\n<p>694 rows × 5002 columns</p>\n</div>"
     },
     "metadata": {},
     "execution_count": 2
    }
   ],
   "source": [
    "df = pd.read_csv(\"./data/msdata.csv\", header = 0)\n",
    "df"
   ]
  },
  {
   "cell_type": "code",
   "execution_count": 3,
   "metadata": {},
   "outputs": [],
   "source": [
    "labels_true = df[\"class\"].to_numpy()\n",
    "data = df.iloc[:, 2:].to_numpy()\n",
    "data = data.astype(np.float)"
   ]
  },
  {
   "cell_type": "code",
   "execution_count": 4,
   "metadata": {},
   "outputs": [
    {
     "output_type": "stream",
     "name": "stdout",
     "text": [
      "26.3404\n0.0\n"
     ]
    }
   ],
   "source": [
    "print(data.max())\n",
    "print(data.min())"
   ]
  },
  {
   "cell_type": "code",
   "execution_count": 5,
   "metadata": {},
   "outputs": [],
   "source": [
    "# Scoring helper to ensure geometric averaging method is always used\n",
    "def nmi_score(labels_true, labels_predicted):\n",
    "    return normalized_mutual_info_score(labels_true, labels_predicted, average_method=\"geometric\")"
   ]
  },
  {
   "cell_type": "markdown",
   "metadata": {},
   "source": [
    "## Preprocessing"
   ]
  },
  {
   "cell_type": "code",
   "execution_count": 6,
   "metadata": {},
   "outputs": [],
   "source": [
    "# Standard scaling: mean center and divide by standard deviation\n",
    "s_scaler = StandardScaler()\n",
    "data_ss = s_scaler.fit_transform(data)"
   ]
  },
  {
   "cell_type": "code",
   "execution_count": 7,
   "metadata": {},
   "outputs": [],
   "source": [
    "# Max abs scaling: scale each future by its max abs value. No centering\n",
    "mabs_scaler = MaxAbsScaler()\n",
    "data_mabs = mabs_scaler.fit_transform(data)"
   ]
  },
  {
   "cell_type": "code",
   "execution_count": 8,
   "metadata": {},
   "outputs": [],
   "source": [
    "# Max abs + sigmoid\n",
    "data_sig = 1 / (1 + np.exp(-data_ss))\n",
    "data_mabs_sig = 1 / (1 + np.exp(-data_mabs))"
   ]
  },
  {
   "cell_type": "code",
   "execution_count": 9,
   "metadata": {},
   "outputs": [
    {
     "output_type": "stream",
     "name": "stdout",
     "text": [
      "600\n"
     ]
    }
   ],
   "source": [
    "data_pca = []\n",
    "for i in range(600, 601, 20):\n",
    "    print(i)\n",
    "    data_pca.append(PCA(n_components=i).fit_transform(data_sig))\n",
    "\n",
    "data_pca = PCA(n_components=600).fit_transform(data)\n",
    "data_mabs_pca = PCA(n_components=600).fit_transform(data)"
   ]
  },
  {
   "cell_type": "code",
   "execution_count": 10,
   "metadata": {},
   "outputs": [],
   "source": [
    "# Cosine similarity\n",
    "data_cs = cosine_similarity(data)\n",
    "data_cs_mabs = cosine_similarity(data_mabs)"
   ]
  },
  {
   "cell_type": "code",
   "execution_count": 11,
   "metadata": {},
   "outputs": [],
   "source": [
    "# Euclidian similarity\n",
    "data_es = 1 / (1 + euclidean_distances(data, data))\n",
    "data_es_ss = 1 / (1 + euclidean_distances(data_ss, data_ss))\n",
    "data_es_mabs = 1 / (1 + euclidean_distances(data_mabs, data_mabs))\n",
    "data_es_mabs_2 = 1 / np.exp(euclidean_distances(data_mabs, data_mabs))"
   ]
  },
  {
   "cell_type": "code",
   "execution_count": 13,
   "metadata": {},
   "outputs": [],
   "source": [
    "def to_similarity(X):\n",
    "    return 1 / 1 + X"
   ]
  },
  {
   "cell_type": "code",
   "execution_count": 14,
   "metadata": {},
   "outputs": [],
   "source": [
    "dist = DistanceMetric.get_metric('mahalanobis', VI = np.cov(data_mabs, rowvar = False))\n",
    "data_mah = to_similarity(dist.pairwise(data_mabs))"
   ]
  },
  {
   "cell_type": "code",
   "execution_count": 86,
   "metadata": {},
   "outputs": [
    {
     "output_type": "execute_result",
     "data": {
      "text/plain": [
       "(694, 694)"
      ]
     },
     "metadata": {},
     "execution_count": 86
    }
   ],
   "source": [
    "np.cov(data_mabs).shape"
   ]
  },
  {
   "source": [
    "### WO/ Scaling"
   ],
   "cell_type": "markdown",
   "metadata": {}
  },
  {
   "cell_type": "code",
   "execution_count": 13,
   "metadata": {},
   "outputs": [
    {
     "output_type": "stream",
     "name": "stdout",
     "text": [
      "2\n",
      "3\n",
      "4\n",
      "5\n",
      "6\n",
      "7\n",
      "8\n",
      "9\n",
      "\n",
      "K = 2: 0.0003\n",
      "K = 3: 0.1234\n",
      "K = 4: 0.1056\n",
      "K = 5: 0.1184\n",
      "K = 6: 0.1161\n",
      "K = 7: 0.0725\n",
      "K = 8: 0.1191\n",
      "K = 9: 0.0926\n"
     ]
    }
   ],
   "source": [
    "labels_km = []\n",
    "scores_km = []\n",
    "\n",
    "for i in range(2, 10):\n",
    "    print(i)\n",
    "    km = KMeans(n_clusters=int(i), algorithm=\"full\").fit(data)\n",
    "    labels = km.predict(data)\n",
    "    labels_km.append(labels)\n",
    "    scores_km.append(nmi_score(labels_true, labels))\n",
    "\n",
    "print()\n",
    "for i, s in enumerate(scores_km):\n",
    "    print(\"K = {}: {}\".format(i+2, round(s, 4)))"
   ]
  },
  {
   "cell_type": "markdown",
   "metadata": {},
   "source": [
    "### W/ scaling"
   ]
  },
  {
   "cell_type": "code",
   "execution_count": 14,
   "metadata": {},
   "outputs": [
    {
     "output_type": "stream",
     "name": "stdout",
     "text": [
      "2\n",
      "3\n",
      "4\n",
      "5\n",
      "6\n",
      "7\n",
      "8\n",
      "9\n",
      "\n",
      "K = 2: 0.0003\n",
      "K = 3: 0.0031\n",
      "K = 4: 0.1203\n",
      "K = 5: 0.0083\n",
      "K = 6: 0.0961\n",
      "K = 7: 0.1774\n",
      "K = 8: 0.1274\n",
      "K = 9: 0.1436\n"
     ]
    }
   ],
   "source": [
    "# Standart scaling\n",
    "labels_km_ss = []\n",
    "scores_km_ss = []\n",
    "\n",
    "for i in range(2, 10):\n",
    "    print(i)\n",
    "    km = KMeans(n_clusters=int(i), algorithm=\"full\").fit(data_ss)\n",
    "    labels = km.predict(data_ss)\n",
    "    labels_km_ss.append(labels)\n",
    "    scores_km_ss.append(nmi_score(labels_true, labels))\n",
    "\n",
    "print()\n",
    "for i, s in enumerate(scores_km_ss):\n",
    "    print(\"K = {}: {}\".format(i+2, round(s, 4)))"
   ]
  },
  {
   "cell_type": "code",
   "execution_count": 15,
   "metadata": {},
   "outputs": [
    {
     "output_type": "stream",
     "name": "stdout",
     "text": [
      "2\n",
      "3\n",
      "4\n",
      "5\n",
      "6\n",
      "7\n",
      "8\n",
      "9\n",
      "\n",
      "K = 2: 0.1303\n",
      "K = 3: 0.1649\n",
      "K = 4: 0.0064\n",
      "K = 5: 0.0083\n",
      "K = 6: 0.0833\n",
      "K = 7: 0.0928\n",
      "K = 8: 0.1107\n",
      "K = 9: 0.1231\n"
     ]
    }
   ],
   "source": [
    "# Maximum absolute scaling\n",
    "labels_km_mabs = []\n",
    "scores_km_mabs = []\n",
    "\n",
    "for i in range(2, 10):\n",
    "    print(i)\n",
    "    km = KMeans(n_clusters=int(i), algorithm=\"full\").fit(data_mabs)\n",
    "    labels = km.predict(data_mabs)\n",
    "    labels_km_mabs.append(labels)\n",
    "    scores_km_mabs.append(nmi_score(labels_true, labels))\n",
    "\n",
    "print()\n",
    "for i, s in enumerate(scores_km_mabs):\n",
    "    print(\"K = {}: {}\".format(i+2, round(s, 4)))"
   ]
  },
  {
   "cell_type": "code",
   "execution_count": 16,
   "metadata": {},
   "outputs": [
    {
     "output_type": "execute_result",
     "data": {
      "text/plain": [
       "   K        No        SS      MABS\n",
       "0  2  0.000285  0.000285  0.130300\n",
       "1  3  0.123413  0.003112  0.164914\n",
       "2  4  0.105572  0.120323  0.006376\n",
       "3  5  0.118397  0.008266  0.008266\n",
       "4  6  0.116130  0.096138  0.083326\n",
       "5  7  0.072541  0.177368  0.092821\n",
       "6  8  0.119134  0.127375  0.110714\n",
       "7  9  0.092578  0.143556  0.123068"
      ],
      "text/html": "<div>\n<style scoped>\n    .dataframe tbody tr th:only-of-type {\n        vertical-align: middle;\n    }\n\n    .dataframe tbody tr th {\n        vertical-align: top;\n    }\n\n    .dataframe thead th {\n        text-align: right;\n    }\n</style>\n<table border=\"1\" class=\"dataframe\">\n  <thead>\n    <tr style=\"text-align: right;\">\n      <th></th>\n      <th>K</th>\n      <th>No</th>\n      <th>SS</th>\n      <th>MABS</th>\n    </tr>\n  </thead>\n  <tbody>\n    <tr>\n      <th>0</th>\n      <td>2</td>\n      <td>0.000285</td>\n      <td>0.000285</td>\n      <td>0.130300</td>\n    </tr>\n    <tr>\n      <th>1</th>\n      <td>3</td>\n      <td>0.123413</td>\n      <td>0.003112</td>\n      <td>0.164914</td>\n    </tr>\n    <tr>\n      <th>2</th>\n      <td>4</td>\n      <td>0.105572</td>\n      <td>0.120323</td>\n      <td>0.006376</td>\n    </tr>\n    <tr>\n      <th>3</th>\n      <td>5</td>\n      <td>0.118397</td>\n      <td>0.008266</td>\n      <td>0.008266</td>\n    </tr>\n    <tr>\n      <th>4</th>\n      <td>6</td>\n      <td>0.116130</td>\n      <td>0.096138</td>\n      <td>0.083326</td>\n    </tr>\n    <tr>\n      <th>5</th>\n      <td>7</td>\n      <td>0.072541</td>\n      <td>0.177368</td>\n      <td>0.092821</td>\n    </tr>\n    <tr>\n      <th>6</th>\n      <td>8</td>\n      <td>0.119134</td>\n      <td>0.127375</td>\n      <td>0.110714</td>\n    </tr>\n    <tr>\n      <th>7</th>\n      <td>9</td>\n      <td>0.092578</td>\n      <td>0.143556</td>\n      <td>0.123068</td>\n    </tr>\n  </tbody>\n</table>\n</div>"
     },
     "metadata": {},
     "execution_count": 16
    }
   ],
   "source": [
    "results_km = {\n",
    "    \"K\": list(range(2, 10)),\n",
    "    \"No\": scores_km,\n",
    "    \"SS\": scores_km_ss,\n",
    "    \"MABS\": scores_km_mabs\n",
    "}\n",
    "pd.DataFrame(results_km)"
   ]
  },
  {
   "source": [
    "From these results we can conclude that K-means is probably not going to work.\n",
    "\n",
    "## Spectral Clustering\n",
    "\n",
    "1. Nearest neighbor with nn = (1, 200) doesn't work\n",
    "2. Standard scaled data with nn = (3, 20) doesn't work\n",
    "3. PCA with nn = (3, 20) doesn't work\n",
    "4. PCA with rbf doesn't work\n",
    "\n",
    "### Nearest Neighbor"
   ],
   "cell_type": "markdown",
   "metadata": {}
  },
  {
   "cell_type": "code",
   "execution_count": 19,
   "metadata": {},
   "outputs": [
    {
     "output_type": "stream",
     "name": "stdout",
     "text": [
      "[0, 4, 3, 0.029432307689934798]\n",
      "[0, 4, 5, 0.030658931204656386]\n",
      "[0, 4, 7, 0.008991302015115252]\n",
      "[0, 5, 3, 0.01418595991360131]\n",
      "[0, 5, 5, 0.014802242890002431]\n",
      "[0, 5, 7, 0.017615166718864154]\n",
      "[0, 6, 3, 0.013089927840981017]\n",
      "[0, 6, 5, 0.013251677198136589]\n",
      "[0, 6, 7, 0.018563208442725705]\n"
     ]
    }
   ],
   "source": [
    "scores_spc_nn = []\n",
    "labels_spc_nn = []\n",
    "\n",
    "i = 0\n",
    "for data_set_num, dt in enumerate([data_ss]): # Data preprocess type\n",
    "    for nc in range(4, 7): # Cluster num\n",
    "        for nn in range(3, 8, 2):\n",
    "            spc = SpectralClustering(\n",
    "                        n_clusters = nc,\n",
    "                        affinity = \"nearest_neighbors\",\n",
    "                        n_neighbors = nn,\n",
    "                        n_jobs = 3\n",
    "                    )\n",
    "\n",
    "            labels = spc.fit_predict(dt)\n",
    "            labels_spc_nn.append(labels)\n",
    "\n",
    "            score = [data_set_num, nc, nn, nmi_score(labels_true, labels)]\n",
    "            scores_spc_nn.append(score)\n",
    "\n",
    "            print(score)\n",
    "            if score[3] > 0.8:\n",
    "                print(\"!!!!!!!\")\n",
    "                print(\"!!!!!!!\")"
   ]
  },
  {
   "cell_type": "code",
   "execution_count": 20,
   "metadata": {},
   "outputs": [
    {
     "output_type": "execute_result",
     "data": {
      "text/plain": [
       "   CN  NN     Score\n",
       "0   4   3  0.029432\n",
       "1   4   5  0.030659\n",
       "2   4   7  0.008991\n",
       "3   5   3  0.014186\n",
       "4   5   5  0.014802\n",
       "5   5   7  0.017615\n",
       "6   6   3  0.013090\n",
       "7   6   5  0.013252\n",
       "8   6   7  0.018563"
      ],
      "text/html": "<div>\n<style scoped>\n    .dataframe tbody tr th:only-of-type {\n        vertical-align: middle;\n    }\n\n    .dataframe tbody tr th {\n        vertical-align: top;\n    }\n\n    .dataframe thead th {\n        text-align: right;\n    }\n</style>\n<table border=\"1\" class=\"dataframe\">\n  <thead>\n    <tr style=\"text-align: right;\">\n      <th></th>\n      <th>CN</th>\n      <th>NN</th>\n      <th>Score</th>\n    </tr>\n  </thead>\n  <tbody>\n    <tr>\n      <th>0</th>\n      <td>4</td>\n      <td>3</td>\n      <td>0.029432</td>\n    </tr>\n    <tr>\n      <th>1</th>\n      <td>4</td>\n      <td>5</td>\n      <td>0.030659</td>\n    </tr>\n    <tr>\n      <th>2</th>\n      <td>4</td>\n      <td>7</td>\n      <td>0.008991</td>\n    </tr>\n    <tr>\n      <th>3</th>\n      <td>5</td>\n      <td>3</td>\n      <td>0.014186</td>\n    </tr>\n    <tr>\n      <th>4</th>\n      <td>5</td>\n      <td>5</td>\n      <td>0.014802</td>\n    </tr>\n    <tr>\n      <th>5</th>\n      <td>5</td>\n      <td>7</td>\n      <td>0.017615</td>\n    </tr>\n    <tr>\n      <th>6</th>\n      <td>6</td>\n      <td>3</td>\n      <td>0.013090</td>\n    </tr>\n    <tr>\n      <th>7</th>\n      <td>6</td>\n      <td>5</td>\n      <td>0.013252</td>\n    </tr>\n    <tr>\n      <th>8</th>\n      <td>6</td>\n      <td>7</td>\n      <td>0.018563</td>\n    </tr>\n  </tbody>\n</table>\n</div>"
     },
     "metadata": {},
     "execution_count": 20
    }
   ],
   "source": [
    "pd.DataFrame(scores_spc_nn, columns = [\"dt\", \"CN\", \"NN\", \"Score\"]).iloc[:, 1:4]"
   ]
  },
  {
   "source": [
    "### RBF"
   ],
   "cell_type": "markdown",
   "metadata": {}
  },
  {
   "cell_type": "code",
   "execution_count": 26,
   "metadata": {},
   "outputs": [
    {
     "output_type": "stream",
     "name": "stdout",
     "text": [
      "0.0031275416551190447\n",
      "0.008745499615900612\n",
      "0.006413491144638863\n",
      "0.008137588318863007\n",
      "0.07143675807501862\n",
      "0.06227789524103876\n",
      "0.05194580825319134\n",
      "0.05536620741763816\n",
      "0.05904075397399397\n",
      "0.044361607904779235\n",
      "0.08000971313978021\n",
      "0.06951851411896882\n",
      "0.016274299573831273\n",
      "0.016274299573831273\n",
      "0.016274299573831273\n",
      "0.016274299573831273\n"
     ]
    }
   ],
   "source": [
    "scores_spc_rbf_1 = []\n",
    "labels_spc_rbf_1 = []\n",
    "\n",
    "for nc in range(4, 8):\n",
    "    spc = SpectralClustering(\n",
    "                n_clusters = 5,\n",
    "                affinity = \"rbf\",\n",
    "                n_jobs = 3\n",
    "            )\n",
    "\n",
    "    labels = spc.fit_predict(data)\n",
    "    labels_spc_rbf_1.append(labels)\n",
    "\n",
    "    score = nmi_score(labels_true, labels)\n",
    "    scores_spc_rbf_1.append(score)\n",
    "\n",
    "    print(score)\n",
    "\n",
    "\n",
    "scores_spc_rbf_2 = []\n",
    "labels_spc_rbf_2 = []\n",
    "\n",
    "for nc in range(4, 8):\n",
    "    spc = SpectralClustering(\n",
    "                n_clusters = 5,\n",
    "                affinity = \"rbf\",\n",
    "                n_jobs = 3\n",
    "            )\n",
    "\n",
    "    labels = spc.fit_predict(data_mabs)\n",
    "    labels_spc_rbf_2.append(labels)\n",
    "\n",
    "    score = nmi_score(labels_true, labels)\n",
    "    scores_spc_rbf_2.append(score)\n",
    "\n",
    "    print(score)\n",
    "\n",
    "\n",
    "scores_spc_rbf_3 = []\n",
    "labels_spc_rbf_3 = []\n",
    "\n",
    "for nc in range(4, 8):\n",
    "    spc = SpectralClustering(\n",
    "                n_clusters = 5,\n",
    "                affinity = \"rbf\",\n",
    "                n_jobs = 3\n",
    "            )\n",
    "\n",
    "    labels = spc.fit_predict(data_mabs)\n",
    "    labels_spc_rbf_3.append(labels)\n",
    "\n",
    "    score = nmi_score(labels_true, labels)\n",
    "    scores_spc_rbf_3.append(score)\n",
    "\n",
    "    print(score)\n",
    "\n",
    "\n",
    "scores_spc_rbf_4 = []\n",
    "labels_spc_rbf_4 = []\n",
    "\n",
    "for nc in range(4, 8):\n",
    "    spc = SpectralClustering(\n",
    "                n_clusters = 5,\n",
    "                affinity = \"rbf\",\n",
    "                n_jobs = 3\n",
    "            )\n",
    "\n",
    "    labels = spc.fit_predict(data_pca)\n",
    "    labels_spc_rbf_4.append(labels)\n",
    "\n",
    "    score = nmi_score(labels_true, labels)\n",
    "    scores_spc_rbf_4.append(score)\n",
    "\n",
    "    print(score)"
   ]
  },
  {
   "cell_type": "code",
   "execution_count": 27,
   "metadata": {},
   "outputs": [
    {
     "output_type": "execute_result",
     "data": {
      "text/plain": [
       "   NC        No        SS      MABS       PCA\n",
       "0   4  0.003128  0.059041  0.071437  0.016274\n",
       "1   5  0.008745  0.044362  0.062278  0.016274\n",
       "2   6  0.006413  0.080010  0.051946  0.016274\n",
       "3   7  0.008138  0.069519  0.055366  0.016274"
      ],
      "text/html": "<div>\n<style scoped>\n    .dataframe tbody tr th:only-of-type {\n        vertical-align: middle;\n    }\n\n    .dataframe tbody tr th {\n        vertical-align: top;\n    }\n\n    .dataframe thead th {\n        text-align: right;\n    }\n</style>\n<table border=\"1\" class=\"dataframe\">\n  <thead>\n    <tr style=\"text-align: right;\">\n      <th></th>\n      <th>NC</th>\n      <th>No</th>\n      <th>SS</th>\n      <th>MABS</th>\n      <th>PCA</th>\n    </tr>\n  </thead>\n  <tbody>\n    <tr>\n      <th>0</th>\n      <td>4</td>\n      <td>0.003128</td>\n      <td>0.059041</td>\n      <td>0.071437</td>\n      <td>0.016274</td>\n    </tr>\n    <tr>\n      <th>1</th>\n      <td>5</td>\n      <td>0.008745</td>\n      <td>0.044362</td>\n      <td>0.062278</td>\n      <td>0.016274</td>\n    </tr>\n    <tr>\n      <th>2</th>\n      <td>6</td>\n      <td>0.006413</td>\n      <td>0.080010</td>\n      <td>0.051946</td>\n      <td>0.016274</td>\n    </tr>\n    <tr>\n      <th>3</th>\n      <td>7</td>\n      <td>0.008138</td>\n      <td>0.069519</td>\n      <td>0.055366</td>\n      <td>0.016274</td>\n    </tr>\n  </tbody>\n</table>\n</div>"
     },
     "metadata": {},
     "execution_count": 27
    }
   ],
   "source": [
    "results_km = {\n",
    "    \"NC\": list(range(4, 8)),\n",
    "    \"No\": scores_spc_rbf_1,\n",
    "    \"SS\": scores_spc_rbf_3,\n",
    "    \"MABS\": scores_spc_rbf_2,\n",
    "    \"PCA\": scores_spc_rbf_4\n",
    "}\n",
    "pd.DataFrame(results_km)"
   ]
  },
  {
   "source": [
    "### Affinity matrices"
   ],
   "cell_type": "markdown",
   "metadata": {}
  },
  {
   "cell_type": "code",
   "execution_count": 72,
   "metadata": {},
   "outputs": [
    {
     "output_type": "stream",
     "name": "stdout",
     "text": [
      "0.8375146837574468\n",
      "0.6979590470729776\n",
      "0.5798233768079831\n",
      "0.5535243763949368\n",
      "0.5334360045930528\n",
      "0.8655733594390272\n",
      "0.7324047776072706\n",
      "0.6151560292533703\n",
      "0.5632951871016115\n",
      "0.5540761960426362\n"
     ]
    }
   ],
   "source": [
    "# Cosine similarity with no preprocessing\n",
    "scores_cs = []\n",
    "labels_cs = []\n",
    "\n",
    "for nc in range(3, 8):\n",
    "    spc = SpectralClustering(\n",
    "                n_clusters = nc,\n",
    "                affinity = \"precomputed\",\n",
    "                n_jobs = 3\n",
    "            )\n",
    "\n",
    "    labels = spc.fit_predict(data_cs)\n",
    "    labels_cs.append(labels)\n",
    "\n",
    "    score = nmi_score(labels_true, labels)\n",
    "    scores_cs.append(score)\n",
    "\n",
    "    print(score)\n",
    "\n",
    "# Cosine similarity with mabs\n",
    "scores_cs_mabs = []\n",
    "labels_cs_mabs = []\n",
    "\n",
    "for nc in range(3, 8):\n",
    "    spc = SpectralClustering(\n",
    "                n_clusters = nc,\n",
    "                affinity = \"precomputed\",\n",
    "                n_jobs = 3\n",
    "            )\n",
    "\n",
    "    labels = spc.fit_predict(data_cs_mabs)\n",
    "    labels_cs_mabs.append(labels)\n",
    "\n",
    "    score = nmi_score(labels_true, labels)\n",
    "    scores_cs_mabs.append(score)\n",
    "\n",
    "    print(score)"
   ]
  },
  {
   "cell_type": "code",
   "execution_count": 73,
   "metadata": {},
   "outputs": [
    {
     "output_type": "execute_result",
     "data": {
      "text/plain": [
       "   CN     score\n",
       "0   3  0.837515\n",
       "1   4  0.697959\n",
       "2   5  0.579823\n",
       "3   6  0.553524\n",
       "4   7  0.533436"
      ],
      "text/html": "<div>\n<style scoped>\n    .dataframe tbody tr th:only-of-type {\n        vertical-align: middle;\n    }\n\n    .dataframe tbody tr th {\n        vertical-align: top;\n    }\n\n    .dataframe thead th {\n        text-align: right;\n    }\n</style>\n<table border=\"1\" class=\"dataframe\">\n  <thead>\n    <tr style=\"text-align: right;\">\n      <th></th>\n      <th>CN</th>\n      <th>score</th>\n    </tr>\n  </thead>\n  <tbody>\n    <tr>\n      <th>0</th>\n      <td>3</td>\n      <td>0.837515</td>\n    </tr>\n    <tr>\n      <th>1</th>\n      <td>4</td>\n      <td>0.697959</td>\n    </tr>\n    <tr>\n      <th>2</th>\n      <td>5</td>\n      <td>0.579823</td>\n    </tr>\n    <tr>\n      <th>3</th>\n      <td>6</td>\n      <td>0.553524</td>\n    </tr>\n    <tr>\n      <th>4</th>\n      <td>7</td>\n      <td>0.533436</td>\n    </tr>\n  </tbody>\n</table>\n</div>"
     },
     "metadata": {},
     "execution_count": 73
    }
   ],
   "source": [
    "results_cs = {\n",
    "    \"CN\": list(range(3, 8)),\n",
    "    \"score\": scores_cs\n",
    "}\n",
    "pd.DataFrame(results_cs)"
   ]
  },
  {
   "cell_type": "code",
   "execution_count": 75,
   "metadata": {},
   "outputs": [
    {
     "output_type": "execute_result",
     "data": {
      "text/plain": [
       "   CN     score\n",
       "0   3  0.865573\n",
       "1   4  0.732405\n",
       "2   5  0.615156\n",
       "3   6  0.563295\n",
       "4   7  0.554076"
      ],
      "text/html": "<div>\n<style scoped>\n    .dataframe tbody tr th:only-of-type {\n        vertical-align: middle;\n    }\n\n    .dataframe tbody tr th {\n        vertical-align: top;\n    }\n\n    .dataframe thead th {\n        text-align: right;\n    }\n</style>\n<table border=\"1\" class=\"dataframe\">\n  <thead>\n    <tr style=\"text-align: right;\">\n      <th></th>\n      <th>CN</th>\n      <th>score</th>\n    </tr>\n  </thead>\n  <tbody>\n    <tr>\n      <th>0</th>\n      <td>3</td>\n      <td>0.865573</td>\n    </tr>\n    <tr>\n      <th>1</th>\n      <td>4</td>\n      <td>0.732405</td>\n    </tr>\n    <tr>\n      <th>2</th>\n      <td>5</td>\n      <td>0.615156</td>\n    </tr>\n    <tr>\n      <th>3</th>\n      <td>6</td>\n      <td>0.563295</td>\n    </tr>\n    <tr>\n      <th>4</th>\n      <td>7</td>\n      <td>0.554076</td>\n    </tr>\n  </tbody>\n</table>\n</div>"
     },
     "metadata": {},
     "execution_count": 75
    }
   ],
   "source": [
    "results_cs_mabs = {\n",
    "    \"CN\": list(range(3, 8)),\n",
    "    \"score\": scores_cs_mabs\n",
    "}\n",
    "pd.DataFrame(results_cs_mabs)"
   ]
  },
  {
   "cell_type": "code",
   "execution_count": 78,
   "metadata": {},
   "outputs": [
    {
     "output_type": "stream",
     "name": "stdout",
     "text": [
      "0.5823011762355861\n",
      "0.5701940923694606\n",
      "0.5782035367443346\n",
      "0.8847072117644724\n",
      "0.8477113264457047\n",
      "\n",
      "0.5823011762355861\n",
      "0.5731101773665491\n",
      "0.9026983129728001\n",
      "0.8835824001007563\n",
      "0.739370863023881\n",
      "\n",
      "0.5735824116472192\n",
      "0.5731101773665491\n",
      "0.5833118113338115\n",
      "0.8813397031939731\n",
      "0.7000086946588405\n"
     ]
    }
   ],
   "source": [
    "# Euclidean distance similarity with no preprocessing\n",
    "scores_es = []\n",
    "labels_es = []\n",
    "\n",
    "for nc in range(3, 8):\n",
    "    spc = SpectralClustering(\n",
    "                n_clusters = nc,\n",
    "                affinity = \"precomputed\",\n",
    "                n_jobs = 3\n",
    "            )\n",
    "\n",
    "    labels = spc.fit_predict(data_es)\n",
    "    labels_es.append(labels)\n",
    "\n",
    "    score = nmi_score(labels_true, labels)\n",
    "    scores_es.append(score)\n",
    "\n",
    "    print(nmi_score(labels_true, labels))\n",
    "\n",
    "print()\n",
    "\n",
    "# Euclidean distance similarity with mabs\n",
    "scores_es_mabs = []\n",
    "labels_es_mabs = []\n",
    "\n",
    "for nc in range(3, 8):\n",
    "    spc = SpectralClustering(\n",
    "                n_clusters = nc,\n",
    "                affinity = \"precomputed\",\n",
    "                n_jobs = 3\n",
    "            )\n",
    "\n",
    "    labels = spc.fit_predict(data_es_mabs)\n",
    "    labels_es_mabs.append(labels)\n",
    "\n",
    "    score = nmi_score(labels_true, labels)\n",
    "    scores_es_mabs.append(score)\n",
    "\n",
    "    print(nmi_score(labels_true, labels))\n",
    "\n",
    "print()\n",
    "\n",
    "# Euclidean distance similarity with standard scaling\n",
    "scores_es_ss = []\n",
    "labels_es_ss = []\n",
    "\n",
    "for nc in range(3, 8):\n",
    "    spc = SpectralClustering(\n",
    "                n_clusters = nc,\n",
    "                affinity = \"precomputed\",\n",
    "                n_jobs = 3\n",
    "            )\n",
    "\n",
    "    labels = spc.fit_predict(data_es_ss)\n",
    "    labels_es_ss.append(labels)\n",
    "\n",
    "    score = nmi_score(labels_true, labels)\n",
    "    scores_es_ss.append(score)\n",
    "\n",
    "    print(nmi_score(labels_true, labels))"
   ]
  },
  {
   "cell_type": "code",
   "execution_count": 79,
   "metadata": {},
   "outputs": [
    {
     "output_type": "execute_result",
     "data": {
      "text/plain": [
       "   CN     score\n",
       "0   3  0.582301\n",
       "1   4  0.570194\n",
       "2   5  0.578204\n",
       "3   6  0.884707\n",
       "4   7  0.847711"
      ],
      "text/html": "<div>\n<style scoped>\n    .dataframe tbody tr th:only-of-type {\n        vertical-align: middle;\n    }\n\n    .dataframe tbody tr th {\n        vertical-align: top;\n    }\n\n    .dataframe thead th {\n        text-align: right;\n    }\n</style>\n<table border=\"1\" class=\"dataframe\">\n  <thead>\n    <tr style=\"text-align: right;\">\n      <th></th>\n      <th>CN</th>\n      <th>score</th>\n    </tr>\n  </thead>\n  <tbody>\n    <tr>\n      <th>0</th>\n      <td>3</td>\n      <td>0.582301</td>\n    </tr>\n    <tr>\n      <th>1</th>\n      <td>4</td>\n      <td>0.570194</td>\n    </tr>\n    <tr>\n      <th>2</th>\n      <td>5</td>\n      <td>0.578204</td>\n    </tr>\n    <tr>\n      <th>3</th>\n      <td>6</td>\n      <td>0.884707</td>\n    </tr>\n    <tr>\n      <th>4</th>\n      <td>7</td>\n      <td>0.847711</td>\n    </tr>\n  </tbody>\n</table>\n</div>"
     },
     "metadata": {},
     "execution_count": 79
    }
   ],
   "source": [
    "results_es = {\n",
    "    \"CN\": list(range(3, 8)),\n",
    "    \"score\": scores_es\n",
    "}\n",
    "pd.DataFrame(results_es)"
   ]
  },
  {
   "cell_type": "code",
   "execution_count": 80,
   "metadata": {},
   "outputs": [
    {
     "output_type": "execute_result",
     "data": {
      "text/plain": [
       "   CN     score\n",
       "0   3  0.573582\n",
       "1   4  0.573110\n",
       "2   5  0.583312\n",
       "3   6  0.881340\n",
       "4   7  0.700009"
      ],
      "text/html": "<div>\n<style scoped>\n    .dataframe tbody tr th:only-of-type {\n        vertical-align: middle;\n    }\n\n    .dataframe tbody tr th {\n        vertical-align: top;\n    }\n\n    .dataframe thead th {\n        text-align: right;\n    }\n</style>\n<table border=\"1\" class=\"dataframe\">\n  <thead>\n    <tr style=\"text-align: right;\">\n      <th></th>\n      <th>CN</th>\n      <th>score</th>\n    </tr>\n  </thead>\n  <tbody>\n    <tr>\n      <th>0</th>\n      <td>3</td>\n      <td>0.573582</td>\n    </tr>\n    <tr>\n      <th>1</th>\n      <td>4</td>\n      <td>0.573110</td>\n    </tr>\n    <tr>\n      <th>2</th>\n      <td>5</td>\n      <td>0.583312</td>\n    </tr>\n    <tr>\n      <th>3</th>\n      <td>6</td>\n      <td>0.881340</td>\n    </tr>\n    <tr>\n      <th>4</th>\n      <td>7</td>\n      <td>0.700009</td>\n    </tr>\n  </tbody>\n</table>\n</div>"
     },
     "metadata": {},
     "execution_count": 80
    }
   ],
   "source": [
    "results_es_ss = {\n",
    "    \"CN\": list(range(3, 8)),\n",
    "    \"score\": scores_es_ss\n",
    "}\n",
    "pd.DataFrame(results_es_ss)"
   ]
  },
  {
   "cell_type": "code",
   "execution_count": 81,
   "metadata": {},
   "outputs": [
    {
     "output_type": "execute_result",
     "data": {
      "text/plain": [
       "   CN     score\n",
       "0   3  0.582301\n",
       "1   4  0.573110\n",
       "2   5  0.902698\n",
       "3   6  0.883582\n",
       "4   7  0.739371"
      ],
      "text/html": "<div>\n<style scoped>\n    .dataframe tbody tr th:only-of-type {\n        vertical-align: middle;\n    }\n\n    .dataframe tbody tr th {\n        vertical-align: top;\n    }\n\n    .dataframe thead th {\n        text-align: right;\n    }\n</style>\n<table border=\"1\" class=\"dataframe\">\n  <thead>\n    <tr style=\"text-align: right;\">\n      <th></th>\n      <th>CN</th>\n      <th>score</th>\n    </tr>\n  </thead>\n  <tbody>\n    <tr>\n      <th>0</th>\n      <td>3</td>\n      <td>0.582301</td>\n    </tr>\n    <tr>\n      <th>1</th>\n      <td>4</td>\n      <td>0.573110</td>\n    </tr>\n    <tr>\n      <th>2</th>\n      <td>5</td>\n      <td>0.902698</td>\n    </tr>\n    <tr>\n      <th>3</th>\n      <td>6</td>\n      <td>0.883582</td>\n    </tr>\n    <tr>\n      <th>4</th>\n      <td>7</td>\n      <td>0.739371</td>\n    </tr>\n  </tbody>\n</table>\n</div>"
     },
     "metadata": {},
     "execution_count": 81
    }
   ],
   "source": [
    "results_es_mabs = {\n",
    "    \"CN\": list(range(3, 8)),\n",
    "    \"score\": scores_es_mabs\n",
    "}\n",
    "pd.DataFrame(results_es_mabs)"
   ]
  },
  {
   "source": [
    "!!!The best one is the one below!!!"
   ],
   "cell_type": "markdown",
   "metadata": {}
  },
  {
   "cell_type": "code",
   "execution_count": 54,
   "metadata": {},
   "outputs": [
    {
     "output_type": "stream",
     "name": "stdout",
     "text": [
      "0.9026983129728001\n"
     ]
    }
   ],
   "source": [
    "spc = SpectralClustering(\n",
    "            n_clusters = 5,\n",
    "            affinity = \"precomputed\",\n",
    "            n_jobs = 3\n",
    "        )\n",
    "\n",
    "labels = spc.fit_predict(data_es_mabs)\n",
    "print(nmi_score(labels_true, labels))\n",
    "\n",
    "max_labels = labels"
   ]
  },
  {
   "source": [
    "## Solution\n",
    "\n",
    "The best method we found was spectral clustering with maximum absolute scaling (-1, 1) with 5 clusters using eucledian distance made into similarity with 1 / (1 + D)."
   ],
   "cell_type": "markdown",
   "metadata": {}
  },
  {
   "cell_type": "code",
   "execution_count": 55,
   "metadata": {},
   "outputs": [],
   "source": [
    "with open(\"solution2.txt\", \"w\") as solution:\n",
    "    for l in labels:\n",
    "        solution.write(\"{}\\n\".format(str(l)))"
   ]
  }
 ],
 "metadata": {
  "kernelspec": {
   "display_name": "Python 3",
   "language": "python",
   "name": "python3"
  },
  "language_info": {
   "codemirror_mode": {
    "name": "ipython",
    "version": 3
   },
   "file_extension": ".py",
   "mimetype": "text/x-python",
   "name": "python",
   "nbconvert_exporter": "python",
   "pygments_lexer": "ipython3",
   "version": "3.8.3-final"
  }
 },
 "nbformat": 4,
 "nbformat_minor": 4
}